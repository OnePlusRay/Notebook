{
 "cells": [
  {
   "attachments": {},
   "cell_type": "markdown",
   "metadata": {},
   "source": [
    "# Markdown快速入门\n",
    "## 块级元素\n",
    "### 标题\n",
    "# 标题1\n",
    "## 标题2\n",
    "### 标题3\n",
    "#### 标题4\n",
    "##### 标题5\n",
    "###### 标题6"
   ]
  },
  {
   "attachments": {},
   "cell_type": "markdown",
   "metadata": {},
   "source": [
    "### 引用\n",
    "> 这是一段引用"
   ]
  },
  {
   "attachments": {},
   "cell_type": "markdown",
   "metadata": {},
   "source": [
    "### 列表\n",
    "#### 有序列表\n",
    "把大象放进冰箱：\n",
    "1. 打开冰箱\n",
    "2. 把大象塞进去\n",
    "3. 关上冰箱\n",
    "\n",
    "#### 无序列表\n",
    "- 斯蒂芬·库里\n",
    "- 勒布朗·詹姆斯\n",
    "* 保罗·乔治\n",
    "* 克里斯·保罗\n",
    "\n",
    "#### 任务列表（Jupyter似乎不支持）\n",
    "明天要做的事：\n",
    "- [x] 吃饭\n",
    "- [ ] 睡觉"
   ]
  },
  {
   "attachments": {},
   "cell_type": "markdown",
   "metadata": {},
   "source": [
    "### 代码块\n",
    "三个翻译符加上代码语言\n",
    "```c\n",
    "int main(){\n",
    "    return 0;\n",
    "}\n",
    "```\n",
    "### 数学公式\n",
    "LaTeX语言\n",
    "$$\n",
    "\\frac{\\partial{f}}{\\partial{x}} = 2\\sqrt{a}x\n",
    "$$"
   ]
  },
  {
   "attachments": {},
   "cell_type": "markdown",
   "metadata": {},
   "source": [
    "### 表格\n",
    "|姓名|年龄|成绩|\n",
    "|:---|---:|---:|\n",
    "|张三|19|99|\n",
    "|刘铁|20|87|\n",
    "\n",
    "### 脚注\n",
    "一键三连[^三连]\n",
    "\n",
    "[^三连]:点赞、投币、收藏，最好再关注一下。\n",
    "\n",
    "### 横线\n",
    "---\n",
    "哈哈哈\n",
    "\n",
    "### 链接\n",
    "方式一：单处需要\n",
    "\n",
    "[百度](https://www.baidu.com/)\n",
    "\n",
    "方式二：多处需要\n",
    "\n",
    "[百度][id]\n",
    "\n",
    "[id]:https://www.baidu.com/\n",
    "\n",
    "请参考[标题1](#标题1)"
   ]
  },
  {
   "attachments": {},
   "cell_type": "markdown",
   "metadata": {},
   "source": [
    "## 行内元素\n",
    "### 字体及行内数学公式\n",
    "*斜体*, **加粗**, `printf()`, <u>下划线</u>, $\\theta=x^2$, $H_2O$, $x^{2}$\n",
    "\n",
    "### 高亮和表情（Jupyter不支持）\n",
    "== 这是一段高亮文字 ==\n",
    "\n",
    ":smile:\n",
    "\n",
    "\n",
    "\n",
    "\n"
   ]
  }
 ],
 "metadata": {
  "kernelspec": {
   "display_name": "pytorch1",
   "language": "python",
   "name": "pytorch"
  },
  "language_info": {
   "name": "python",
   "version": "3.9.18"
  },
  "orig_nbformat": 4
 },
 "nbformat": 4,
 "nbformat_minor": 2
}
