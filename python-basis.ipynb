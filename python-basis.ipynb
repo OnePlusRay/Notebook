{
 "cells": [
  {
   "attachments": {},
   "cell_type": "markdown",
   "metadata": {},
   "source": [
    "# Python深度学习基础\n",
    "- 深度学习相关库：NumPy，Pandas，Matplotlib，Scikit-learn，TensorFlow，Pytorch\n",
    "\n",
    "- 这份笔记主要介绍纯Python基础，包括语法、变量、函数和类 "
   ]
  },
  {
   "attachments": {},
   "cell_type": "markdown",
   "metadata": {},
   "source": [
    "## 变量类型与输出语句\n",
    "两点提示：\n",
    "\n",
    "- Python是动态输入类型的语言，变量类型是动态推断的，如C++中“int a=1”，在python中只需要“a=1”\n",
    "\n",
    "- Python不需要分号，换行即可，四个空格是缩进，不要随便加\n",
    "\n",
    "七种变量类型：\n",
    "\n",
    "- 基本变量类型：字符串（str），数字（int，float），布尔型（bool）\n",
    "\n",
    "- 高级变量类型：集合（set），元组（tuple），列表（list），字典（dict）\n",
    "\n",
    "输出语句有Jupyter和Python两种，其中Jupyter是在代码块最后一行直接写下变量名"
   ]
  },
  {
   "cell_type": "code",
   "execution_count": 75,
   "metadata": {},
   "outputs": [
    {
     "name": "stdout",
     "output_type": "stream",
     "text": [
      "{'a': 1, 'b': 2, 'c': 3}\n"
     ]
    },
    {
     "data": {
      "text/plain": [
       "{'a': 1, 'b': 2, 'c': 3}"
      ]
     },
     "execution_count": 75,
     "metadata": {},
     "output_type": "execute_result"
    }
   ],
   "source": [
    "# 变量类型示例\n",
    "# 字符串（str）\n",
    "str_v = \"a real man\"\n",
    "# 数字（int，float）\n",
    "num_v = 1234\n",
    "# 布尔型（bool）\n",
    "bool_v = True\n",
    "# 集合（set）\n",
    "set_v = {1, 2, 3, 1}\n",
    "# 元组（tuple）\n",
    "tuple_v = (1, 2, 3)\n",
    "# 列表（list）\n",
    "list_v = [1, 2, 3]\n",
    "# 字典（dict，key-value）\n",
    "dict_v = {'a':1, 'b':2, 'c':3}\n",
    "\n",
    "# Python输出\n",
    "print(dict_v)  \n",
    "# Jupyter输出\n",
    "dict_v "
   ]
  },
  {
   "attachments": {},
   "cell_type": "markdown",
   "metadata": {},
   "source": [
    "## 基本变量类型\n",
    "### 字符串\n",
    "#### 字符串的结构\n",
    "字符串用单或双引号括起来\n"
   ]
  },
  {
   "cell_type": "code",
   "execution_count": 76,
   "metadata": {},
   "outputs": [],
   "source": [
    "# 字符串的两种引号（为了避免字符串中符号影响）\n",
    "str1 = 'He said:\"Rose.'\n",
    "str2 = \"Jack's book is in his home.\""
   ]
  },
  {
   "attachments": {},
   "cell_type": "markdown",
   "metadata": {},
   "source": [
    "#### 输出语句的经典用法\n",
    "在字符串中插入其他变量，可以用“f字符串”的方法"
   ]
  },
  {
   "cell_type": "code",
   "execution_count": 77,
   "metadata": {},
   "outputs": [
    {
     "name": "stdout",
     "output_type": "stream",
     "text": [
      "You ruined his money path. You ruined his doctor.\n",
      "测试集的准确率为：0.98\n"
     ]
    }
   ],
   "source": [
    "str1 = \"money path\"\n",
    "str2 = \"doctor\"\n",
    "str3 = f\"You ruined his {str1}. You ruined his {str2}.\"\n",
    "print(str3)\n",
    "answer = 0.98\n",
    "print(f\"测试集的准确率为：{answer}\") # 最常用场景"
   ]
  },
  {
   "attachments": {},
   "cell_type": "markdown",
   "metadata": {},
   "source": [
    "#### 输出语句的转义字符\n",
    "字符串中的转义字符，如换行符\\n和制表符\\t，增加print的可读性"
   ]
  },
  {
   "cell_type": "code",
   "execution_count": 78,
   "metadata": {},
   "outputs": [
    {
     "name": "stdout",
     "output_type": "stream",
     "text": [
      "Shop sells:\n",
      "\tlitchi, \n",
      "\tfritters.\n"
     ]
    },
    {
     "data": {
      "text/plain": [
       "'Shop sells:\\n\\tlitchi, \\n\\tfritters.'"
      ]
     },
     "execution_count": 78,
     "metadata": {},
     "output_type": "execute_result"
    }
   ],
   "source": [
    "message = \"Shop sells:\\n\\tlitchi, \\n\\tfritters.\"\n",
    "print(message)\n",
    "message # 单独输出不能识别转义字符"
   ]
  },
  {
   "attachments": {},
   "cell_type": "markdown",
   "metadata": {},
   "source": [
    "### 数字\n",
    "分为整数型（int）和浮点型（float）\n",
    "常用运算符：+，-，*，/，**，()，//，%\n",
    "\n",
    "### 布尔型\n",
    "#### 基于其他变量类型生成\n",
    "生成方式：\n",
    "- 对字符串或数字做比较\n",
    "- 判断某元素是否在集合/元组/列表/字典里"
   ]
  },
  {
   "cell_type": "code",
   "execution_count": 79,
   "metadata": {},
   "outputs": [
    {
     "name": "stdout",
     "output_type": "stream",
     "text": [
      "False\n",
      "False\n",
      "True\n",
      "False\n"
     ]
    }
   ],
   "source": [
    "str_v = 'cxk'\n",
    "print(str_v == 'chicken')\n",
    "num_v = 3\n",
    "print(num_v >= 5)\n",
    "list_v = [1, 2, 3]\n",
    "print(2 in list_v)\n",
    "print(1 not in list_v)"
   ]
  },
  {
   "attachments": {},
   "cell_type": "markdown",
   "metadata": {},
   "source": [
    "#### 同时检查多个条件\n",
    "and和or的规则"
   ]
  },
  {
   "cell_type": "code",
   "execution_count": 80,
   "metadata": {},
   "outputs": [
    {
     "name": "stdout",
     "output_type": "stream",
     "text": [
      "False\n",
      "True\n"
     ]
    }
   ],
   "source": [
    "T = True\n",
    "F = False\n",
    "print(T and F)\n",
    "print(T or F)"
   ]
  },
  {
   "attachments": {},
   "cell_type": "markdown",
   "metadata": {},
   "source": [
    "### 判断语句\n",
    "if判断的语法规则"
   ]
  },
  {
   "cell_type": "code",
   "execution_count": 81,
   "metadata": {},
   "outputs": [
    {
     "name": "stdout",
     "output_type": "stream",
     "text": [
      "挂科\n"
     ]
    }
   ],
   "source": [
    "answer = 40\n",
    "if answer > 90:\n",
    "    print('卓越')\n",
    "elif answer > 80:\n",
    "    print('优秀')\n",
    "elif answer > 60:\n",
    "    print('合格')\n",
    "else:\n",
    "    print('挂科')"
   ]
  },
  {
   "attachments": {},
   "cell_type": "markdown",
   "metadata": {},
   "source": [
    "### 基本变量之间的转换\n",
    "字符串，整数，浮点数，布尔型四者之间可以无缝切换，分别使用str，int，float，bool函数\n",
    "\n",
    "其中注意布尔型True会转化为1或1.0"
   ]
  },
  {
   "cell_type": "code",
   "execution_count": 82,
   "metadata": {},
   "outputs": [
    {
     "name": "stdout",
     "output_type": "stream",
     "text": [
      "123\n",
      "123.0\n",
      "True\n"
     ]
    }
   ],
   "source": [
    "# 定义变量\n",
    "str_v = '123'\n",
    "int_v = 123\n",
    "float_v = 123.0\n",
    "bool_v = True\n",
    "# 转化为字符串\n",
    "print(str(int_v))\n",
    "print(str(float_v))\n",
    "print(str(bool_v))"
   ]
  },
  {
   "attachments": {},
   "cell_type": "markdown",
   "metadata": {},
   "source": [
    "## 高级变量类型\n",
    "共同特点：作为容器，他们可以随意容纳任意变量\n",
    "\n",
    "### 集合\n",
    "- 集合是无序，不可重复的元素的组合\n",
    "- 可以用set函数或者大括号来创建集合\n",
    "- 请勿用大括号创建空字典，否则会被误认为字典（事实上，集合出现的频率非常低）"
   ]
  },
  {
   "cell_type": "code",
   "execution_count": 83,
   "metadata": {},
   "outputs": [
    {
     "name": "stdout",
     "output_type": "stream",
     "text": [
      "{9, 3, 4, 1}\n",
      "{'山', '学', '数', '院', '大', '中'}\n"
     ]
    }
   ],
   "source": [
    "set_v = set([9, 1, 4, 1, 3, 1]) # 相当于把列表转化为集合\n",
    "print(set_v)\n",
    "set_v = {'中','山','大','学','数','学','学','院'}\n",
    "print(set_v)"
   ]
  },
  {
   "attachments": {},
   "cell_type": "markdown",
   "metadata": {},
   "source": [
    "### 元组\n",
    "- 创建元组的两种方法：规范括号法，省略括号法\n",
    "- 输出语句中的元组法（高级变量类型可以容纳任何变量）"
   ]
  },
  {
   "cell_type": "code",
   "execution_count": 84,
   "metadata": {},
   "outputs": [
    {
     "name": "stdout",
     "output_type": "stream",
     "text": [
      "最终答案为：0.98\n",
      "最终答案为： 0.98\n"
     ]
    }
   ],
   "source": [
    "# 一个包含七种变量类型的元组\n",
    "'a', 1, True, {1, 2, 3}, (1, 2, 3), [1, 2, 3], {'a':1, 'b':2, 'c':3}\n",
    "# 元组法代替f字符串\n",
    "answer = 0.98\n",
    "print(f'最终答案为：{answer}')\n",
    "print('最终答案为：', answer) # 缺点是有一个空格"
   ]
  },
  {
   "attachments": {},
   "cell_type": "markdown",
   "metadata": {},
   "source": [
    "#### 元组拆分法\n",
    "Python语法灵活的关键所在"
   ]
  },
  {
   "cell_type": "code",
   "execution_count": 85,
   "metadata": {},
   "outputs": [
    {
     "data": {
      "text/plain": [
       "(98, 99, [94, 94, 90, 92])"
      ]
     },
     "execution_count": 85,
     "metadata": {},
     "output_type": "execute_result"
    }
   ],
   "source": [
    "# 极速创建新变量\n",
    "a, b, c = 1, 2, 3\n",
    "# 极速交换变量值\n",
    "a, b = b, a\n",
    "# 只要前n个答案\n",
    "values = 98, 99, 94, 94, 90, 92\n",
    "a, b, *rest = values\n",
    "a, b, rest"
   ]
  },
  {
   "attachments": {},
   "cell_type": "markdown",
   "metadata": {},
   "source": [
    "### 列表\n",
    "列表由若干个有序的变量组成，其中的元素可以无任何关系\n",
    "\n",
    "列表非常灵活，但是代价是列表要单独存储每一个元素的变量类型，事实上list3这种情况并不多见，在之后的Numpy数组中仅接纳一种变量类型，可以大幅提升运算速度并节约内存空间"
   ]
  },
  {
   "cell_type": "code",
   "execution_count": 86,
   "metadata": {},
   "outputs": [
    {
     "name": "stdout",
     "output_type": "stream",
     "text": [
      "666\n",
      "(1, 2, 3)\n",
      "True\n"
     ]
    }
   ],
   "source": [
    "# 一个全是字符串的列表\n",
    "list1 = ['Bro', '30 months']\n",
    "# 一个全是数字的列表\n",
    "list2 = [123, 45, 667]\n",
    "# 一个释放自我的列表\n",
    "list3 = ['cxk', 666, True, (1, 2, 3)]\n",
    "\n",
    "print(list3[1]) # 索引从0开始\n",
    "print(list3[-1]) # 访问倒数第n个元素\n",
    "print(list3[-2])\n",
    "list1[0] = 'bro'"
   ]
  },
  {
   "attachments": {},
   "cell_type": "markdown",
   "metadata": {},
   "source": [
    "#### 切片--访问部分元素\n",
    "切片就是列表的部分元素，可以实现下面三种访问元素的方法\n",
    "\n"
   ]
  },
  {
   "cell_type": "code",
   "execution_count": 87,
   "metadata": {},
   "outputs": [
    {
     "name": "stdout",
     "output_type": "stream",
     "text": [
      "['a', 'b', 'c', 'd', 'e', 'f', 'g']\n",
      "['b', 'c', 'd']\n",
      "['b', 'c', 'd', 'e', 'f', 'g']\n",
      "['a', 'b', 'c', 'd']\n",
      "['c', 'd', 'e']\n",
      "['c', 'd', 'e', 'f', 'g']\n",
      "['a', 'b', 'c', 'd', 'e']\n",
      "['a', 'c', 'e', 'g']\n",
      "['b', 'e']\n"
     ]
    }
   ],
   "source": [
    "list_v = ['a', 'b', 'c', 'd', 'e', 'f', 'g']\n",
    "print(list_v)\n",
    "# 从x切到y\n",
    "print(list_v[1:4]) # 从索引[1]开始，切到索引[4]之前\n",
    "print(list_v[1: ])\n",
    "print(list_v[ :4])\n",
    "\n",
    "# 切除开头结尾\n",
    "print(list_v[2:-2]) # 切除开头2个和结尾2个\n",
    "print(list_v[2: ])\n",
    "print(list_v[ :-2])\n",
    "\n",
    "# 采样\n",
    "print(list_v[ : :2])\n",
    "print(list_v[1:-1:3]) # 去除一头一尾后，每隔3个元素采样一次"
   ]
  },
  {
   "attachments": {},
   "cell_type": "markdown",
   "metadata": {},
   "source": [
    "值得注意的是，对列表切片后将得到一个新的变量，与原列表变量相互独立，非常消耗内存，因此之后Numpy数组的切片被设定为原变量的一个视图，改变切片的值会影响原变量，若需要复制可用copy函数\n",
    "\n",
    "#### 列表元素的添加\n",
    "列表可以使用 + 和 * 来添加原列表"
   ]
  },
  {
   "cell_type": "code",
   "execution_count": 88,
   "metadata": {},
   "outputs": [
    {
     "name": "stdout",
     "output_type": "stream",
     "text": [
      "[1, 2, 3, 4]\n",
      "[1, 2, 3, 10, 11, 12]\n",
      "[1, 2, 3, 1, 2, 3]\n",
      "[1, 2, 3, 1, 2, 3, 1, 2, 3, 1, 2, 3]\n"
     ]
    }
   ],
   "source": [
    "list1 = [1, 2, 3]\n",
    "print(list1 + [4])\n",
    "print(list1 + [10, 11, 12])\n",
    "print(list1 * 2)\n",
    "print(list1 * 4)"
   ]
  },
  {
   "attachments": {},
   "cell_type": "markdown",
   "metadata": {},
   "source": [
    "由此可以看出，列表不具备数组的任何特征，只能看做一个万能容器\n",
    "\n",
    "因此需要Numpy的出现，加减乘除得到释放，可以像Matlab一样做数学运算\n",
    "\n",
    "### 字典\n",
    "#### 创建字典\n",
    "- 字典可以理解为升级版的列表，每一个元素的索引都可以自己决定\n",
    "- 字典的值可以是任何变量类型，但索引只能是数字或者字符串，且一般都是字符串\n",
    "- 按官方的说法，字典的索引称为“键”，字典的索引值称为“值”"
   ]
  },
  {
   "cell_type": "code",
   "execution_count": 89,
   "metadata": {},
   "outputs": [
    {
     "name": "stdout",
     "output_type": "stream",
     "text": [
      "95\n",
      "95\n",
      "123 True\n"
     ]
    }
   ],
   "source": [
    "# 一个普通的字典\n",
    "dict_v = {'a':90, 'b':95, 'c':100}\n",
    "\n",
    "# 下面的列表和字典完全等效\n",
    "list_v = [90, 95, 100]\n",
    "dict_v = {0:90, 1:95, 2:100}\n",
    "print(list_v[1])\n",
    "print(dict_v[1])\n",
    "\n",
    "dict_v = {\n",
    "    'zero':123,\n",
    "    1:True\n",
    "}\n",
    "print(dict_v['zero'], dict_v[1])"
   ]
  },
  {
   "attachments": {},
   "cell_type": "markdown",
   "metadata": {},
   "source": [
    "#### 字典元素的修改和删除"
   ]
  },
  {
   "cell_type": "code",
   "execution_count": 90,
   "metadata": {},
   "outputs": [
    {
     "name": "stdout",
     "output_type": "stream",
     "text": [
      "{'冶金工程': 'A+', '计算机科学与技术': 'A-', '矿业工程': 'A+'}\n",
      "{'冶金工程': 'A+', '计算机科学与技术': 'A-', '矿业工程': 'A+', '临床医学': 'A-', '数学': '双一流学科', '控制科学与工程': 'A-', '护理学': 'A+'}\n",
      "{'计算机科学与技术': 'A-', '临床医学': 'A-', '数学': '双一流学科', '控制科学与工程': 'A-', '护理学': 'A+'}\n"
     ]
    }
   ],
   "source": [
    "# 原字典\n",
    "CSU = {\n",
    "    '冶金工程':'A+',\n",
    "    '计算机科学与技术':'A-',\n",
    "    '矿业工程':'A+'\n",
    "}\n",
    "print(CSU)\n",
    "\n",
    "# 添加元素\n",
    "CSU['临床医学'] = 'A-'\n",
    "CSU['数学'] = '双一流学科'\n",
    "CSU['控制科学与工程'] = 'A-'\n",
    "CSU['护理学'] = 'A+'\n",
    "print(CSU)\n",
    "\n",
    "# 删除元素\n",
    "del CSU['矿业工程']\n",
    "del CSU['冶金工程']\n",
    "print(CSU)"
   ]
  },
  {
   "attachments": {},
   "cell_type": "markdown",
   "metadata": {},
   "source": [
    "### for循环语句\n",
    "#### for循环语句遍历列表和字典"
   ]
  },
  {
   "cell_type": "code",
   "execution_count": 91,
   "metadata": {},
   "outputs": [
    {
     "name": "stdout",
     "output_type": "stream",
     "text": [
      "中山大学, you are great school!\n",
      "武汉大学, you are great school!\n",
      "华中科技大学, you are great school!\n",
      "清华大学, you are great school!\n",
      "I can't wait you visit you!\n"
     ]
    }
   ],
   "source": [
    "# for循环遍历列表\n",
    "schools = ['中山大学', '武汉大学', '华中科技大学', '清华大学']\n",
    "for school in schools:\n",
    "    message = f\"{school}, you are great school!\"\n",
    "    print(message)\n",
    "print(\"I can't wait you visit you!\")"
   ]
  },
  {
   "cell_type": "code",
   "execution_count": 92,
   "metadata": {},
   "outputs": [
    {
     "name": "stdout",
     "output_type": "stream",
     "text": [
      "四所985包括中山大学\n",
      "四所985包括武汉大学\n",
      "四所985包括华中科技大学\n",
      "四所985包括清华大学\n",
      "A+学科是生态学\n",
      "A+学科是法学\n",
      "A+学科是电气工程\n",
      "A+学科是计算机科学与技术\n",
      "中山大学的A+学科是生态学\n",
      "武汉大学的A+学科是法学\n",
      "华中科技大学的A+学科是电气工程\n",
      "清华大学的A+学科是计算机科学与技术\n"
     ]
    }
   ],
   "source": [
    "# for循环遍历字典\n",
    "schools = {'中山大学':'生态学', '武汉大学':'法学', '华中科技大学':'电气工程', '清华大学':'计算机科学与技术'}\n",
    "for k in schools.keys():\n",
    "    print(f'四所985包括{k}')\n",
    "for v in schools.values():\n",
    "    print(f'A+学科是{v}')\n",
    "for k, v in schools.items():\n",
    "    print(f'{k}的A+学科是{v}')"
   ]
  },
  {
   "attachments": {},
   "cell_type": "markdown",
   "metadata": {},
   "source": [
    "注：\n",
    "- schools.keys()和school.values()的变量类型其实是列表，因此本质是还是遍历列表\n",
    "- schools.items()的变量类型也是列表，只不过他的每一个元素是元组\n",
    "\n",
    "### while循环\n",
    "基本语法跟C++一样，包括break和continue的用法也一样"
   ]
  },
  {
   "cell_type": "code",
   "execution_count": 93,
   "metadata": {},
   "outputs": [
    {
     "name": "stdout",
     "output_type": "stream",
     "text": [
      "1\n",
      "2\n",
      "3\n",
      "4\n",
      "5\n"
     ]
    }
   ],
   "source": [
    "a = 1\n",
    "while a <= 5:\n",
    "    print(a)\n",
    "    a += 1"
   ]
  },
  {
   "attachments": {},
   "cell_type": "markdown",
   "metadata": {},
   "source": [
    "### 列表推导式\n",
    "这个能看懂即可，有时读代码会碰到"
   ]
  },
  {
   "cell_type": "code",
   "execution_count": 96,
   "metadata": {},
   "outputs": [
    {
     "name": "stdout",
     "output_type": "stream",
     "text": [
      "[1, 4, 9, 16, 25]\n",
      "[1, 4, 9, 16, 25]\n",
      "[1, 4, 9]\n"
     ]
    }
   ],
   "source": [
    "# 求平方-循环\n",
    "value = []\n",
    "for i in [1, 2, 3, 4, 5]:\n",
    "    value += [i**2]\n",
    "print(value)\n",
    "\n",
    "# 求平方-列表推导式（代码更加简洁）\n",
    "value = [i**2 for i in [1, 2, 3, 4, 5]]\n",
    "print(value)\n",
    "\n",
    "# 还可以加if函数\n",
    "value = [i**2 for i in [1, 2, 3, 4, 5] if i < 4]\n",
    "print(value)"
   ]
  },
  {
   "attachments": {},
   "cell_type": "markdown",
   "metadata": {},
   "source": [
    "### 高级变量间的转换\n",
    "集合、元组、列表、字典四者之间可以做到无缝切换\n",
    "- 转换为集合使用set函数\n",
    "- 转换为元组使用tuple函数\n",
    "- 转换为列表使用list函数\n",
    "- 转换为字典使用dict函数"
   ]
  },
  {
   "cell_type": "code",
   "execution_count": 103,
   "metadata": {},
   "outputs": [
    {
     "name": "stdout",
     "output_type": "stream",
     "text": [
      "{1, 2, 3}\n",
      "{1, 2, 3}\n",
      "{'b', 'c', 'a'}\n",
      "{1, 2, 3}\n",
      "{('a', 1), ('b', 2), ('c', 3)}\n",
      "{'a': 1, 'b': 2, 'c': 3}\n",
      "{'a': 1, 'b': 2, 'c': 3}\n",
      "{'b': 1, 'c': 2, 'a': 3}\n"
     ]
    }
   ],
   "source": [
    "# 定义变量\n",
    "set_v = {1, 2, 3}\n",
    "tuple_v = (1, 2, 3)\n",
    "list_v = [1, 2, 3]\n",
    "dict_v = {'a':1, 'b':2, 'c':3}\n",
    "\n",
    "# 转化成集合\n",
    "print(set(tuple_v))\n",
    "print(set(list_v))\n",
    "print(set(dict_v.keys()))\n",
    "print(set(dict_v.values()))\n",
    "print(set(dict_v.items())) # 结果中集合元素是元组\n",
    "\n",
    "# 转化成元组和列表道理同上\n",
    "\n",
    "# 转化为字典（需搭配zip函数）\n",
    "print(dict(zip(('a', 'b', 'c'), (1, 2, 3))))\n",
    "print(dict(zip(['a', 'b', 'c'], [1, 2, 3])))\n",
    "print(dict(zip({'a', 'b', 'c'}, {1, 2, 3}))) # 集合会出现乱序"
   ]
  },
  {
   "attachments": {},
   "cell_type": "markdown",
   "metadata": {},
   "source": [
    "## 函数\n",
    "主要作用是避免重复的大段代码\n",
    "### 吞吐各种类型的变量（共5种情况）\n",
    "- 文档字符串"
   ]
  },
  {
   "cell_type": "code",
   "execution_count": 6,
   "metadata": {},
   "outputs": [
    {
     "name": "stdout",
     "output_type": "stream",
     "text": [
      "cxk\n",
      "123\n",
      "我的函数\n",
      "Built-in mutable sequence.\n",
      "\n",
      "If no argument is given, the constructor creates a new empty list.\n",
      "The argument must be an iterable if specified.\n"
     ]
    }
   ],
   "source": [
    "# 查看某函数的文档字符串方法\n",
    "print(list.__doc__)\n",
    "\n",
    "# 吞吐单个任意类型的变量\n",
    "def my_func(v):\n",
    "    '''我的函数''' # 文档字符串\n",
    "    return v\n",
    "str_v = my_func('cxk')\n",
    "num_v = my_func(123)\n",
    "print(str_v)\n",
    "print(num_v)"
   ]
  },
  {
   "cell_type": "code",
   "execution_count": 14,
   "metadata": {},
   "outputs": [
    {
     "name": "stdout",
     "output_type": "stream",
     "text": [
      "11 30\n",
      "('荔枝', '油饼', '鸡翅包饭')\n",
      "cxk likes ('singsing', 'dancing', 'rap', 'basketball')\n",
      "{'计算机类': '打代码的', '通信工程': '拉网线的'}\n",
      "{'电子工程': '焊电路的', '能源动力': '烧锅炉的', '计算机类': '打代码的', '通信工程': '拉网线的'}\n"
     ]
    }
   ],
   "source": [
    "# 吞吐多个值（借助元组）\n",
    "def my_counter(a,b):\n",
    "    '''加法器和乘法器'''\n",
    "    return a + b, a * b\n",
    "x, y = my_counter(5, 6)\n",
    "print(x, y)\n",
    "\n",
    "# 吞吐任意数量的参数（利用元组拆分法）\n",
    "def menu(*args):\n",
    "    '''菜单'''\n",
    "    return args\n",
    "info = menu('荔枝', '油饼', '鸡翅包饭')\n",
    "print(info)\n",
    "\n",
    "# 同时传入普通参数和任意数量的参数（后者只能出现一个）\n",
    "def her_hobbies(name, *hobbies):\n",
    "    return name, hobbies\n",
    "n, h = her_hobbies('cxk', 'singsing', 'dancing', 'rap', 'basketball')\n",
    "print(f'{n} likes {h}')\n",
    "\n",
    "# 吞吐多个普通参数，并附带一个任意数量的键值对参数\n",
    "def evaluate(in1, in2, **kwargs):\n",
    "    '''先对计算机类评价，再对通信评价'''\n",
    "    kwargs['计算机类'] = in1\n",
    "    kwargs['通信工程'] = in2\n",
    "    return kwargs\n",
    "# 规矩补充法\n",
    "eva1 = evaluate('打代码的', '拉网线的')\n",
    "print(eva1)\n",
    "# 额外补充法\n",
    "eva2 = evaluate( \n",
    "    '打代码的',\n",
    "    '拉网线的',\n",
    "    电子工程 = '焊电路的',\n",
    "    能源动力 = '烧锅炉的'\n",
    ")\n",
    "print(eva2)"
   ]
  },
  {
   "attachments": {},
   "cell_type": "markdown",
   "metadata": {},
   "source": [
    "- 函数的输入形参args的*会让Python创建一个名为args的空元组，并将变量放入其中\n",
    "\n",
    "- 函数的输入形参kwargs的**会让Python创建一个名为kwargs的空字典，并将键值对放入其中\n",
    "\n",
    "### 函数形参的关键字传入"
   ]
  },
  {
   "cell_type": "code",
   "execution_count": 18,
   "metadata": {},
   "outputs": [
    {
     "name": "stdout",
     "output_type": "stream",
     "text": [
      "三峡大学的电气工程很厉害。\n",
      "三峡大学的电气工程很厉害。\n"
     ]
    }
   ],
   "source": [
    "def my_evaluate1(college, major, evaluate):\n",
    "    '''对某大学专业的评价'''\n",
    "    message = f\"{college}的{major}{evaluate}。\"\n",
    "    return message\n",
    "# 顺序传入参数\n",
    "info = my_evaluate1('三峡大学', '电气工程', '很厉害')\n",
    "print(info)\n",
    "# 关键字传入参数（关键字传入的需要放在后面）\n",
    "info = my_evaluate1('三峡大学', major='电气工程', evaluate='很厉害')\n",
    "print(info)"
   ]
  },
  {
   "attachments": {},
   "cell_type": "markdown",
   "metadata": {},
   "source": [
    "### 函数形参的默认值"
   ]
  },
  {
   "cell_type": "code",
   "execution_count": 20,
   "metadata": {},
   "outputs": [
    {
     "name": "stdout",
     "output_type": "stream",
     "text": [
      "中南大学，你是一所不错的带专！\n",
      "铁道学院，你是一所不错的职高！\n"
     ]
    }
   ],
   "source": [
    "def my_evaluate2(college, level='带专'):\n",
    "    message = f\"{college}，你是一所不错的{level}！\"\n",
    "    return message\n",
    "# 遵循默认值\n",
    "info = my_evaluate2('中南大学')\n",
    "print(info)\n",
    "# 打破默认值\n",
    "info = my_evaluate2('铁道学院', '职高')\n",
    "print(info)"
   ]
  },
  {
   "attachments": {},
   "cell_type": "markdown",
   "metadata": {},
   "source": [
    "## 类\n",
    "### 创建和使用类\n",
    "- 类的本质：在一堆函数之间传递参数\n",
    "\n",
    "- 根据约定，类的名称需要首字母大写\n",
    "\n",
    "- 类中的函数叫方法，一个类包含一个__init__方法和很多自定义方法"
   ]
  },
  {
   "cell_type": "code",
   "execution_count": 21,
   "metadata": {},
   "outputs": [],
   "source": [
    "# 类的示范\n",
    "class Counter:\n",
    "    '''一台可以加减的计算器'''\n",
    "    def __init__(self, a, b):\n",
    "        '''a和b是公共变量，也是self的属性'''\n",
    "        self.a = a\n",
    "        self.b = b\n",
    "\n",
    "    def add(self):\n",
    "        '''加法'''\n",
    "        return self.a + self.b\n",
    "    \n",
    "    def sub(self):\n",
    "        '''减法'''\n",
    "        return self.a - self.b"
   ]
  },
  {
   "attachments": {},
   "cell_type": "markdown",
   "metadata": {},
   "source": [
    "- 函数内部和外部的变量是在两个空间，为了使自定义方法能在类里互通，需要一个self作为舰船，将需要互通的变量作为self的属性进行传递，因此，特殊方法__init__旨在使用舰船self来承载公共变量a和b\n",
    "\n",
    "- __init__特殊方法后的括号里要写上舰船self和公共变量a和b，而自定义方法后的括号只要写上self即可\n",
    "\n",
    "类的编写完成后，可以创造很多的实例出来"
   ]
  },
  {
   "cell_type": "code",
   "execution_count": 22,
   "metadata": {},
   "outputs": [
    {
     "name": "stdout",
     "output_type": "stream",
     "text": [
      "5 6\n",
      "-1\n"
     ]
    }
   ],
   "source": [
    "# 创建类的实例\n",
    "cnt = Counter(5, 6)\n",
    "print(cnt.a, cnt.b)\n",
    "print(cnt.sub())"
   ]
  },
  {
   "attachments": {},
   "cell_type": "markdown",
   "metadata": {},
   "source": [
    "### 属性的默认值\n",
    "属性即公共变量，可以给self的属性一个默认值，此时默认值不用写进__init__后面的括号里"
   ]
  },
  {
   "cell_type": "code",
   "execution_count": 30,
   "metadata": {},
   "outputs": [
    {
     "name": "stdout",
     "output_type": "stream",
     "text": [
      "鸡哥 24 man\n",
      "大家好！我是鸡哥，今年24岁了！\n",
      "None\n",
      "Neither man nor woman\n"
     ]
    }
   ],
   "source": [
    "# 编写类\n",
    "class Man:\n",
    "    '''一个真正的man'''\n",
    "    def __init__(self, name, age):\n",
    "        '''公共变量'''\n",
    "        self.name = name\n",
    "        self.age = age\n",
    "        self.gender = 'man' # 一个带有默认值的属性\n",
    "\n",
    "    def zwjs(self):\n",
    "        '''自我介绍'''\n",
    "        print(f\"大家好！我是{self.name}，今年{self.age}岁了！\")\n",
    "\n",
    "# 创建与使用类\n",
    "cxk = Man('鸡哥', 24)\n",
    "print(cxk.name, cxk.age, cxk.gender)\n",
    "print(cxk.zwjs())\n",
    "# 修改默认值\n",
    "cxk.gender = 'Neither man nor woman'\n",
    "print(cxk.gender)"
   ]
  },
  {
   "attachments": {},
   "cell_type": "markdown",
   "metadata": {},
   "source": [
    "### 类的继承\n",
    "在某个类（父类）的基础上添加几个方法，形成另一个类（子类）\n",
    "- 父类从无到有去写属性和方法，第一行是class 类名\n",
    "- 子类可继承父类的属性和方法，第一行是class 类名（父类名）\n",
    "\n",
    "- 子类在特殊方法里使用super()函数，就可以继承父类的全部属性和方法\n",
    "- 若想要在子类修改父类中的某个方法，可以直接在子类中写一个同名方法，即可实现覆写"
   ]
  },
  {
   "cell_type": "code",
   "execution_count": 31,
   "metadata": {},
   "outputs": [
    {
     "name": "stdout",
     "output_type": "stream",
     "text": [
      "-1\n",
      "12\n"
     ]
    }
   ],
   "source": [
    "# Counter的子类\n",
    "class Counter2(Counter):\n",
    "    '''一台可以加减乘除的高级计算器'''\n",
    "    def __init__(self, a, b):\n",
    "        '''继承父类的属性和方法'''\n",
    "        super().__init__(a, b)\n",
    "\n",
    "    def mul(self):\n",
    "        '''乘法'''\n",
    "        return self.a * self.b\n",
    "\n",
    "    def div(self):\n",
    "        '''除法'''\n",
    "        return self.a / self.b    \n",
    "    \n",
    "test = Counter2(3, 4)\n",
    "print(test.sub())\n",
    "print(test.mul())"
   ]
  },
  {
   "attachments": {},
   "cell_type": "markdown",
   "metadata": {},
   "source": [
    "### 掠夺\n",
    "继承只能继承一个类的方法，但如果想要得到很多其他类的方法，则需要掠夺功能\n",
    "\n",
    "掠夺的本质是，将被掠夺类的实例当作掠夺类的self的属性用，这样一来，被掠夺类的数量就不设上限。此外假如掠夺者和被掠夺者里都有add函数，那么掠夺者里的方法用test.add()，被掠夺者里的方法用test.cnt.add()，于是不会产生冲突。"
   ]
  },
  {
   "cell_type": "code",
   "execution_count": 33,
   "metadata": {},
   "outputs": [
    {
     "name": "stdout",
     "output_type": "stream",
     "text": [
      "12\n",
      "7\n"
     ]
    }
   ],
   "source": [
    "class Amrc:\n",
    "    '''一台本身只能乘除的计算器，现欲掠夺加减功能'''\n",
    "    def __init__(self, c, d):\n",
    "        '''公共变量'''\n",
    "        self.c = c\n",
    "        self.d = d\n",
    "        self.cnt = Counter(c, d) # 掠夺Counter类的方法\n",
    "\n",
    "    def mul(self):\n",
    "        '''乘法'''\n",
    "        return self.c * self.d\n",
    "\n",
    "    def div(self):\n",
    "        '''除法'''\n",
    "        return self.c / self.d \n",
    "    \n",
    "test = Amrc(3, 4)\n",
    "print(test.mul())\n",
    "print(test.cnt.add())"
   ]
  }
 ],
 "metadata": {
  "kernelspec": {
   "display_name": "pytorch1",
   "language": "python",
   "name": "pytorch"
  },
  "language_info": {
   "codemirror_mode": {
    "name": "ipython",
    "version": 3
   },
   "file_extension": ".py",
   "mimetype": "text/x-python",
   "name": "python",
   "nbconvert_exporter": "python",
   "pygments_lexer": "ipython3",
   "version": "3.9.18"
  },
  "orig_nbformat": 4
 },
 "nbformat": 4,
 "nbformat_minor": 2
}
