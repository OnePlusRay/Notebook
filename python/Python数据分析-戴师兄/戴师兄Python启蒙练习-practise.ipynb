{
 "cells": [
  {
   "cell_type": "markdown",
   "id": "7eda5bdf",
   "metadata": {},
   "source": [
    "### 0、导入库"
   ]
  },
  {
   "cell_type": "code",
   "execution_count": 1,
   "id": "8e6e940f",
   "metadata": {},
   "outputs": [],
   "source": [
    "import numpy as np\n",
    "import pandas as pd\n",
    "import matplotlib.pyplot as plt\n",
    "plt.rcParams['font.sans-serif'] = ['SimHei']#设置中文字体为黑体\n",
    "plt.rcParams['axes.unicode_minus'] = False #正常显示负号\n",
    "import pymysql\n",
    "import pandas as pd"
   ]
  },
  {
   "cell_type": "markdown",
   "id": "69c8c548",
   "metadata": {},
   "source": [
    "### 1、利用pymysql提取数据库数据"
   ]
  },
  {
   "cell_type": "code",
   "execution_count": 3,
   "id": "f9016fbc",
   "metadata": {},
   "outputs": [
    {
     "name": "stdout",
     "output_type": "stream",
     "text": [
      "<pymysql.connections.Connection object at 0x000001F645AEE9A0>\n"
     ]
    }
   ],
   "source": [
    "mydb = pymysql.connect(\n",
    "    host='rm-ro.mysql.rds.aliyuncs.com',\n",
    "    user='d',\n",
    "    database='d',\n",
    "    passwd='D'\n",
    ")\n",
    "print(mydb)\n",
    "#创建一个连接对象mydb，并传入数据库相关参数"
   ]
  },
  {
   "cell_type": "code",
   "execution_count": 4,
   "id": "e10fc100",
   "metadata": {},
   "outputs": [],
   "source": [
    "cursor = mydb.cursor(pymysql.cursors.DictCursor)\n",
    "#创建游标对象"
   ]
  },
  {
   "cell_type": "code",
   "execution_count": 5,
   "id": "b9935a55",
   "metadata": {
    "scrolled": true
   },
   "outputs": [],
   "source": [
    "sql = '''\n",
    "select  *\n",
    "from    ddm.shop\n",
    "where   month(日期) in (6,7)\n",
    "    '''\n",
    "#execute执行sql操作\n",
    "cursor.execute(sql)\n",
    "#fetchall 将所有查询结果返回给 result\n",
    "result = cursor.fetchall()\n",
    "#将result转换为dataframe类型，并命名为shop\n",
    "shop = pd.DataFrame(result)"
   ]
  },
  {
   "cell_type": "markdown",
   "id": "075a7b2e",
   "metadata": {},
   "source": [
    "### 2、了解数据"
   ]
  },
  {
   "cell_type": "code",
   "execution_count": 6,
   "id": "7671b78d",
   "metadata": {
    "scrolled": true
   },
   "outputs": [
    {
     "name": "stdout",
     "output_type": "stream",
     "text": [
      "<class 'pandas.core.frame.DataFrame'>\n",
      "RangeIndex: 310 entries, 0 to 309\n",
      "Data columns (total 16 columns):\n",
      " #   Column  Non-Null Count  Dtype  \n",
      "---  ------  --------------  -----  \n",
      " 0   品牌ID    310 non-null    int64  \n",
      " 1   品牌名称    310 non-null    object \n",
      " 2   城市      310 non-null    object \n",
      " 3   平台      310 non-null    object \n",
      " 4   日期      310 non-null    object \n",
      " 5   门店ID    310 non-null    int64  \n",
      " 6   门店名称    310 non-null    object \n",
      " 7   GMV     310 non-null    float64\n",
      " 8   下单人数    215 non-null    float64\n",
      " 9   商家实收    310 non-null    int64  \n",
      " 10  商户补贴    310 non-null    int64  \n",
      " 11  平台补贴    310 non-null    int64  \n",
      " 12  无效订单数   310 non-null    int64  \n",
      " 13  曝光人数    215 non-null    float64\n",
      " 14  有效订单数   310 non-null    int64  \n",
      " 15  进店人数    215 non-null    float64\n",
      "dtypes: float64(4), int64(7), object(5)\n",
      "memory usage: 38.9+ KB\n"
     ]
    }
   ],
   "source": [
    "shop.info()#可以看到个别字段存在空值"
   ]
  },
  {
   "cell_type": "code",
   "execution_count": 7,
   "id": "3e32bf29",
   "metadata": {
    "scrolled": true
   },
   "outputs": [
    {
     "name": "stdout",
     "output_type": "stream",
     "text": [
      "<class 'pandas.core.frame.DataFrame'>\n",
      "RangeIndex: 310 entries, 0 to 309\n",
      "Data columns (total 16 columns):\n",
      " #   Column  Non-Null Count  Dtype  \n",
      "---  ------  --------------  -----  \n",
      " 0   品牌ID    310 non-null    int64  \n",
      " 1   品牌名称    310 non-null    object \n",
      " 2   城市      310 non-null    object \n",
      " 3   平台      310 non-null    object \n",
      " 4   日期      310 non-null    object \n",
      " 5   门店ID    310 non-null    int64  \n",
      " 6   门店名称    310 non-null    object \n",
      " 7   GMV     310 non-null    float64\n",
      " 8   下单人数    310 non-null    float64\n",
      " 9   商家实收    310 non-null    int64  \n",
      " 10  商户补贴    310 non-null    int64  \n",
      " 11  平台补贴    310 non-null    int64  \n",
      " 12  无效订单数   310 non-null    int64  \n",
      " 13  曝光人数    310 non-null    float64\n",
      " 14  有效订单数   310 non-null    int64  \n",
      " 15  进店人数    310 non-null    float64\n",
      "dtypes: float64(4), int64(7), object(5)\n",
      "memory usage: 38.9+ KB\n"
     ]
    }
   ],
   "source": [
    "shop.fillna(0,inplace=True) #我们采用fillna进行0值填充\n",
    "shop.info()#再次查看"
   ]
  },
  {
   "cell_type": "code",
   "execution_count": 8,
   "id": "2cbb29a3",
   "metadata": {
    "scrolled": true
   },
   "outputs": [
    {
     "data": {
      "text/html": [
       "<div>\n",
       "<style scoped>\n",
       "    .dataframe tbody tr th:only-of-type {\n",
       "        vertical-align: middle;\n",
       "    }\n",
       "\n",
       "    .dataframe tbody tr th {\n",
       "        vertical-align: top;\n",
       "    }\n",
       "\n",
       "    .dataframe thead th {\n",
       "        text-align: right;\n",
       "    }\n",
       "</style>\n",
       "<table border=\"1\" class=\"dataframe\">\n",
       "  <thead>\n",
       "    <tr style=\"text-align: right;\">\n",
       "      <th></th>\n",
       "      <th>品牌ID</th>\n",
       "      <th>品牌名称</th>\n",
       "      <th>城市</th>\n",
       "      <th>平台</th>\n",
       "      <th>日期</th>\n",
       "      <th>门店ID</th>\n",
       "      <th>门店名称</th>\n",
       "      <th>GMV</th>\n",
       "      <th>下单人数</th>\n",
       "      <th>商家实收</th>\n",
       "      <th>商户补贴</th>\n",
       "      <th>平台补贴</th>\n",
       "      <th>无效订单数</th>\n",
       "      <th>曝光人数</th>\n",
       "      <th>有效订单数</th>\n",
       "      <th>进店人数</th>\n",
       "    </tr>\n",
       "  </thead>\n",
       "  <tbody>\n",
       "    <tr>\n",
       "      <th>0</th>\n",
       "      <td>4636</td>\n",
       "      <td>蛙小辣火锅杯（总账号）</td>\n",
       "      <td>上海</td>\n",
       "      <td>eleme</td>\n",
       "      <td>2020-07-27</td>\n",
       "      <td>2001104355</td>\n",
       "      <td>宝山店</td>\n",
       "      <td>63.0</td>\n",
       "      <td>1.0</td>\n",
       "      <td>23</td>\n",
       "      <td>35</td>\n",
       "      <td>0</td>\n",
       "      <td>0</td>\n",
       "      <td>151.0</td>\n",
       "      <td>1</td>\n",
       "      <td>17.0</td>\n",
       "    </tr>\n",
       "    <tr>\n",
       "      <th>1</th>\n",
       "      <td>4636</td>\n",
       "      <td>蛙小辣火锅杯（总账号）</td>\n",
       "      <td>上海</td>\n",
       "      <td>eleme</td>\n",
       "      <td>2020-07-19</td>\n",
       "      <td>2001104355</td>\n",
       "      <td>宝山店</td>\n",
       "      <td>312.0</td>\n",
       "      <td>5.0</td>\n",
       "      <td>107</td>\n",
       "      <td>177</td>\n",
       "      <td>17</td>\n",
       "      <td>0</td>\n",
       "      <td>1000.0</td>\n",
       "      <td>5</td>\n",
       "      <td>60.0</td>\n",
       "    </tr>\n",
       "    <tr>\n",
       "      <th>2</th>\n",
       "      <td>4636</td>\n",
       "      <td>蛙小辣火锅杯（总账号）</td>\n",
       "      <td>上海</td>\n",
       "      <td>eleme</td>\n",
       "      <td>2020-06-13</td>\n",
       "      <td>2001104355</td>\n",
       "      <td>宝山店</td>\n",
       "      <td>684.0</td>\n",
       "      <td>10.0</td>\n",
       "      <td>265</td>\n",
       "      <td>356</td>\n",
       "      <td>14</td>\n",
       "      <td>0</td>\n",
       "      <td>1230.0</td>\n",
       "      <td>10</td>\n",
       "      <td>70.0</td>\n",
       "    </tr>\n",
       "    <tr>\n",
       "      <th>3</th>\n",
       "      <td>4636</td>\n",
       "      <td>蛙小辣火锅杯（总账号）</td>\n",
       "      <td>上海</td>\n",
       "      <td>eleme</td>\n",
       "      <td>2020-06-23</td>\n",
       "      <td>2001104355</td>\n",
       "      <td>宝山店</td>\n",
       "      <td>557.0</td>\n",
       "      <td>11.0</td>\n",
       "      <td>168</td>\n",
       "      <td>328</td>\n",
       "      <td>11</td>\n",
       "      <td>0</td>\n",
       "      <td>899.0</td>\n",
       "      <td>11</td>\n",
       "      <td>62.0</td>\n",
       "    </tr>\n",
       "    <tr>\n",
       "      <th>4</th>\n",
       "      <td>4636</td>\n",
       "      <td>蛙小辣火锅杯（总账号）</td>\n",
       "      <td>上海</td>\n",
       "      <td>eleme</td>\n",
       "      <td>2020-06-21</td>\n",
       "      <td>2001104355</td>\n",
       "      <td>宝山店</td>\n",
       "      <td>624.0</td>\n",
       "      <td>11.0</td>\n",
       "      <td>239</td>\n",
       "      <td>317</td>\n",
       "      <td>12</td>\n",
       "      <td>0</td>\n",
       "      <td>1287.0</td>\n",
       "      <td>11</td>\n",
       "      <td>73.0</td>\n",
       "    </tr>\n",
       "  </tbody>\n",
       "</table>\n",
       "</div>"
      ],
      "text/plain": [
       "   品牌ID         品牌名称  城市     平台          日期        门店ID 门店名称    GMV  下单人数  \\\n",
       "0  4636  蛙小辣火锅杯（总账号）  上海  eleme  2020-07-27  2001104355  宝山店   63.0   1.0   \n",
       "1  4636  蛙小辣火锅杯（总账号）  上海  eleme  2020-07-19  2001104355  宝山店  312.0   5.0   \n",
       "2  4636  蛙小辣火锅杯（总账号）  上海  eleme  2020-06-13  2001104355  宝山店  684.0  10.0   \n",
       "3  4636  蛙小辣火锅杯（总账号）  上海  eleme  2020-06-23  2001104355  宝山店  557.0  11.0   \n",
       "4  4636  蛙小辣火锅杯（总账号）  上海  eleme  2020-06-21  2001104355  宝山店  624.0  11.0   \n",
       "\n",
       "   商家实收  商户补贴  平台补贴  无效订单数    曝光人数  有效订单数  进店人数  \n",
       "0    23    35     0      0   151.0      1  17.0  \n",
       "1   107   177    17      0  1000.0      5  60.0  \n",
       "2   265   356    14      0  1230.0     10  70.0  \n",
       "3   168   328    11      0   899.0     11  62.0  \n",
       "4   239   317    12      0  1287.0     11  73.0  "
      ]
     },
     "execution_count": 8,
     "metadata": {},
     "output_type": "execute_result"
    }
   ],
   "source": [
    "shop.head() #查看数据内容"
   ]
  },
  {
   "cell_type": "markdown",
   "id": "b360e1ad",
   "metadata": {},
   "source": [
    "### 3、练习\n",
    "一：各平台在6、7月的GMV占比  \n",
    "二：6、7月各周的总GMV情况  \n",
    "三：6、7月各周的转化率情况  \n",
    "四：查看6、7月每天各个门店的GMV，门店实收，并按照门店实收进行排名。（输出字段：日期-门店名称-GMV-门店实收-排名）"
   ]
  },
  {
   "cell_type": "code",
   "execution_count": 9,
   "id": "7b884a0e",
   "metadata": {
    "scrolled": true
   },
   "outputs": [
    {
     "data": {
      "text/plain": [
       "([<matplotlib.patches.Wedge at 0x1f645d017f0>,\n",
       "  <matplotlib.patches.Wedge at 0x1f645d01ee0>],\n",
       " [Text(-0.547826998539216, 0.9538792269839584, '饿了么'),\n",
       "  Text(0.5478269985392162, -0.9538792269839582, '美团')],\n",
       " [Text(-0.29881472647593593, 0.5202977601730682, '66.6%'),\n",
       "  Text(0.2988147264759361, -0.5202977601730681, '33.4%')])"
      ]
     },
     "execution_count": 9,
     "metadata": {},
     "output_type": "execute_result"
    },
    {
     "data": {
      "image/png": "[encoded data removed]",
      "text/plain": [
       "<Figure size 432x288 with 1 Axes>"
      ]
     },
     "metadata": {},
     "output_type": "display_data"
    }
   ],
   "source": [
    "#绘制出，各平台在6、7月的GMV占比 （饼图）\n",
    "pin_tai = shop[['平台','GMV']].groupby('平台').agg(GMV = ('GMV','sum'))\n",
    "#我们按照平台进行分组，对GMV进行聚合\n",
    "pin_tai = pd.Series(pin_tai.GMV,index=pin_tai.index)\n",
    "#将DataFrame类型转换为Series类型\n",
    "plt.pie(pin_tai,autopct='%2.1f%%',labels=['饿了么','美团'])\n",
    "#调用pie方法，传入数据pin_tai；autopct：数据标签；%2.1f 输出宽度为2的浮点数，小数点宽度为1；labels 为标签"
   ]
  },
  {
   "cell_type": "markdown",
   "id": "614fbd7d",
   "metadata": {},
   "source": [
    "6、7月的总GMV当中，饿了么占比66%，美团占比33%"
   ]
  },
  {
   "cell_type": "code",
   "execution_count": 10,
   "id": "6569d656",
   "metadata": {},
   "outputs": [],
   "source": [
    "#绘制出6-7月的GMV\n",
    "shop.日期 = pd.to_datetime(shop.日期)\n",
    "#先对日期格式转换为datetime64格式，方便我们对日期进行采样操作\n",
    "shop['下单率'] = shop.下单人数/shop.进店人数\n",
    "shop['进店率'] = shop.进店人数/shop.曝光人数\n",
    "#分别创建字段：下单率&进店率"
   ]
  },
  {
   "cell_type": "code",
   "execution_count": 11,
   "id": "4b0a26ee",
   "metadata": {
    "scrolled": true
   },
   "outputs": [
    {
     "data": {
      "text/html": [
       "<div>\n",
       "<style scoped>\n",
       "    .dataframe tbody tr th:only-of-type {\n",
       "        vertical-align: middle;\n",
       "    }\n",
       "\n",
       "    .dataframe tbody tr th {\n",
       "        vertical-align: top;\n",
       "    }\n",
       "\n",
       "    .dataframe thead th {\n",
       "        text-align: right;\n",
       "    }\n",
       "</style>\n",
       "<table border=\"1\" class=\"dataframe\">\n",
       "  <thead>\n",
       "    <tr style=\"text-align: right;\">\n",
       "      <th></th>\n",
       "      <th>GMV总合</th>\n",
       "      <th>进店率</th>\n",
       "      <th>下单率</th>\n",
       "    </tr>\n",
       "    <tr>\n",
       "      <th>日期</th>\n",
       "      <th></th>\n",
       "      <th></th>\n",
       "      <th></th>\n",
       "    </tr>\n",
       "  </thead>\n",
       "  <tbody>\n",
       "    <tr>\n",
       "      <th>2020-06-07</th>\n",
       "      <td>9995.0</td>\n",
       "      <td>0.206191</td>\n",
       "      <td>0.605541</td>\n",
       "    </tr>\n",
       "    <tr>\n",
       "      <th>2020-06-14</th>\n",
       "      <td>7494.0</td>\n",
       "      <td>0.229990</td>\n",
       "      <td>0.569144</td>\n",
       "    </tr>\n",
       "    <tr>\n",
       "      <th>2020-06-21</th>\n",
       "      <td>5315.0</td>\n",
       "      <td>0.201604</td>\n",
       "      <td>0.452098</td>\n",
       "    </tr>\n",
       "    <tr>\n",
       "      <th>2020-06-28</th>\n",
       "      <td>7268.0</td>\n",
       "      <td>0.220086</td>\n",
       "      <td>0.712623</td>\n",
       "    </tr>\n",
       "    <tr>\n",
       "      <th>2020-07-05</th>\n",
       "      <td>5773.0</td>\n",
       "      <td>0.307283</td>\n",
       "      <td>0.887202</td>\n",
       "    </tr>\n",
       "    <tr>\n",
       "      <th>2020-07-12</th>\n",
       "      <td>6951.0</td>\n",
       "      <td>0.257386</td>\n",
       "      <td>0.875181</td>\n",
       "    </tr>\n",
       "    <tr>\n",
       "      <th>2020-07-19</th>\n",
       "      <td>7089.0</td>\n",
       "      <td>0.286398</td>\n",
       "      <td>0.717871</td>\n",
       "    </tr>\n",
       "    <tr>\n",
       "      <th>2020-07-26</th>\n",
       "      <td>7963.0</td>\n",
       "      <td>0.235892</td>\n",
       "      <td>0.763889</td>\n",
       "    </tr>\n",
       "  </tbody>\n",
       "</table>\n",
       "</div>"
      ],
      "text/plain": [
       "             GMV总合       进店率       下单率\n",
       "日期                                    \n",
       "2020-06-07  9995.0  0.206191  0.605541\n",
       "2020-06-14  7494.0  0.229990  0.569144\n",
       "2020-06-21  5315.0  0.201604  0.452098\n",
       "2020-06-28  7268.0  0.220086  0.712623\n",
       "2020-07-05  5773.0  0.307283  0.887202\n",
       "2020-07-12  6951.0  0.257386  0.875181\n",
       "2020-07-19  7089.0  0.286398  0.717871\n",
       "2020-07-26  7963.0  0.235892  0.763889"
      ]
     },
     "execution_count": 11,
     "metadata": {},
     "output_type": "execute_result"
    }
   ],
   "source": [
    "gmv_rates = shop.groupby(shop.日期).agg(GMV总合 = ('GMV','sum'),进店率 = ('进店率','sum'),下单率 = ('下单率','sum')).resample('1W').asfreq().dropna(how = 'any')\n",
    "gmv_rates\n",
    "#groupby日期--按照日期进行分组\n",
    "#agg--分别对gmv,进店率,下单率进行sum聚合\n",
    "#resample--让groupby以1周为单位的进行数据的分组\n",
    "#asfreq--让resample生效\n",
    "#dropna--删除掉有空值的行"
   ]
  },
  {
   "cell_type": "code",
   "execution_count": 12,
   "id": "2acfae6c",
   "metadata": {
    "scrolled": true
   },
   "outputs": [
    {
     "data": {
      "text/plain": [
       "(array([18421., 18428., 18435., 18444., 18451., 18458., 18465.]),\n",
       " [Text(0, 0, ''),\n",
       "  Text(0, 0, ''),\n",
       "  Text(0, 0, ''),\n",
       "  Text(0, 0, ''),\n",
       "  Text(0, 0, ''),\n",
       "  Text(0, 0, ''),\n",
       "  Text(0, 0, '')])"
      ]
     },
     "execution_count": 12,
     "metadata": {},
     "output_type": "execute_result"
    },
    {
     "data": {
      "image/png": "[encoded data removed]",
      "text/plain": [
       "<Figure size 432x288 with 1 Axes>"
      ]
     },
     "metadata": {
      "needs_background": "light"
     },
     "output_type": "display_data"
    }
   ],
   "source": [
    "plt.bar(gmv_rates.index, gmv_rates.GMV总合, label = 'GMV')\n",
    "#bar--条形图\n",
    "#x横坐标为gmv_rates的索引，y纵坐标为gmv_rates的GMV总合\n",
    "#label--标签名：GMV\n",
    "plt.legend()\n",
    "#显示标签\n",
    "for a,b in zip(gmv_rates.index,gmv_rates.GMV总合):\n",
    "    plt.text(a,b+0.1,'%.0f'%b,ha='center',va='bottom',fontsize=13)\n",
    "plt.xticks(rotation=-15)\n",
    "#a,b 分别遍历 gmv_rates的index，gmv_rates的GMV总合的内容\n",
    "#zip--生成(a[0],b[0]),(a[1],b[1]).....我们将它们看作是位置的坐标\n",
    "#a,b+0.1--放入我们的坐标\n",
    "#'%.0f'%b--在坐标位置，显示我们的b的值，作为标签\n",
    "#ha、va 调整标签的位置"
   ]
  },
  {
   "cell_type": "markdown",
   "id": "8ee96825",
   "metadata": {},
   "source": [
    "6月份前3周的GMV整体呈下降趋势，第四周上升回归；7月份各周的GMV整体呈上升趋势。"
   ]
  },
  {
   "cell_type": "code",
   "execution_count": 13,
   "id": "a5062e5b",
   "metadata": {
    "scrolled": true
   },
   "outputs": [
    {
     "data": {
      "text/plain": [
       "(array([18421., 18428., 18435., 18444., 18451., 18458., 18465.]),\n",
       " [Text(0, 0, ''),\n",
       "  Text(0, 0, ''),\n",
       "  Text(0, 0, ''),\n",
       "  Text(0, 0, ''),\n",
       "  Text(0, 0, ''),\n",
       "  Text(0, 0, ''),\n",
       "  Text(0, 0, '')])"
      ]
     },
     "execution_count": 13,
     "metadata": {},
     "output_type": "execute_result"
    },
    {
     "data": {
      "image/png": "[encoded data removed]",
      "text/plain": [
       "<Figure size 432x288 with 1 Axes>"
      ]
     },
     "metadata": {
      "needs_background": "light"
     },
     "output_type": "display_data"
    }
   ],
   "source": [
    "plt.plot(gmv_rates.index, gmv_rates.进店率,label = '进店率')\n",
    "plt.plot(gmv_rates.index, gmv_rates.下单率,label = '下单率')\n",
    "plt.legend()\n",
    "\n",
    "for a,b in zip(gmv_rates.index, gmv_rates.进店率):\n",
    "    plt.text(a,b+0.01,'%.2f'%b,ha='center',va='bottom',fontsize=13)\n",
    "for a,b in zip(gmv_rates.index, gmv_rates.下单率):\n",
    "    plt.text(a,b+0.01,'%.2f'%b,ha='center',va='bottom',fontsize=13)\n",
    "plt.xticks(rotation=-15)"
   ]
  },
  {
   "cell_type": "markdown",
   "id": "ca4df565",
   "metadata": {},
   "source": [
    "6-7月的进店率整体浮动稳点，其中7月的第一周进店率最高，为31%  \n",
    "6月前3周的下单率呈下降趋势，其中第三周最低为45%，第四周上升回归；7月份第一周下单率为上升趋势且为2个月当中的最高89%，第三周呈下降趋势，第四周上升回归"
   ]
  },
  {
   "cell_type": "code",
   "execution_count": 14,
   "id": "b5cc755f",
   "metadata": {
    "scrolled": true
   },
   "outputs": [
    {
     "data": {
      "text/html": [
       "<div>\n",
       "<style scoped>\n",
       "    .dataframe tbody tr th:only-of-type {\n",
       "        vertical-align: middle;\n",
       "    }\n",
       "\n",
       "    .dataframe tbody tr th {\n",
       "        vertical-align: top;\n",
       "    }\n",
       "\n",
       "    .dataframe thead th {\n",
       "        text-align: right;\n",
       "    }\n",
       "</style>\n",
       "<table border=\"1\" class=\"dataframe\">\n",
       "  <thead>\n",
       "    <tr style=\"text-align: right;\">\n",
       "      <th></th>\n",
       "      <th>日期</th>\n",
       "      <th>门店名称</th>\n",
       "      <th>GMV</th>\n",
       "      <th>门店实收</th>\n",
       "      <th>rankk</th>\n",
       "    </tr>\n",
       "  </thead>\n",
       "  <tbody>\n",
       "    <tr>\n",
       "      <th>0</th>\n",
       "      <td>2020-06-01</td>\n",
       "      <td>拌客干拌麻辣烫(武宁路店)</td>\n",
       "      <td>8848.0</td>\n",
       "      <td>2992.13</td>\n",
       "      <td>1</td>\n",
       "    </tr>\n",
       "    <tr>\n",
       "      <th>1</th>\n",
       "      <td>2020-06-01</td>\n",
       "      <td>宝山店</td>\n",
       "      <td>1131.0</td>\n",
       "      <td>469.75</td>\n",
       "      <td>2</td>\n",
       "    </tr>\n",
       "    <tr>\n",
       "      <th>2</th>\n",
       "      <td>2020-06-01</td>\n",
       "      <td>宝山店</td>\n",
       "      <td>1093.0</td>\n",
       "      <td>436.20</td>\n",
       "      <td>3</td>\n",
       "    </tr>\n",
       "    <tr>\n",
       "      <th>3</th>\n",
       "      <td>2020-06-01</td>\n",
       "      <td>五角场店</td>\n",
       "      <td>0.0</td>\n",
       "      <td>NaN</td>\n",
       "      <td>4</td>\n",
       "    </tr>\n",
       "    <tr>\n",
       "      <th>4</th>\n",
       "      <td>2020-06-01</td>\n",
       "      <td>怒江路店</td>\n",
       "      <td>0.0</td>\n",
       "      <td>NaN</td>\n",
       "      <td>4</td>\n",
       "    </tr>\n",
       "    <tr>\n",
       "      <th>...</th>\n",
       "      <td>...</td>\n",
       "      <td>...</td>\n",
       "      <td>...</td>\n",
       "      <td>...</td>\n",
       "      <td>...</td>\n",
       "    </tr>\n",
       "    <tr>\n",
       "      <th>305</th>\n",
       "      <td>2020-07-31</td>\n",
       "      <td>拌客干拌麻辣烫(武宁路店)</td>\n",
       "      <td>3920.0</td>\n",
       "      <td>1079.26</td>\n",
       "      <td>1</td>\n",
       "    </tr>\n",
       "    <tr>\n",
       "      <th>306</th>\n",
       "      <td>2020-07-31</td>\n",
       "      <td>拌客干拌麻辣烫(武宁路店)</td>\n",
       "      <td>3745.0</td>\n",
       "      <td>995.88</td>\n",
       "      <td>2</td>\n",
       "    </tr>\n",
       "    <tr>\n",
       "      <th>307</th>\n",
       "      <td>2020-07-31</td>\n",
       "      <td>宝山店</td>\n",
       "      <td>1853.0</td>\n",
       "      <td>731.42</td>\n",
       "      <td>3</td>\n",
       "    </tr>\n",
       "    <tr>\n",
       "      <th>308</th>\n",
       "      <td>2020-07-31</td>\n",
       "      <td>宝山店</td>\n",
       "      <td>1177.0</td>\n",
       "      <td>438.69</td>\n",
       "      <td>4</td>\n",
       "    </tr>\n",
       "    <tr>\n",
       "      <th>309</th>\n",
       "      <td>2020-07-31</td>\n",
       "      <td>拌客干拌麻辣烫(武宁路店)</td>\n",
       "      <td>0.0</td>\n",
       "      <td>NaN</td>\n",
       "      <td>5</td>\n",
       "    </tr>\n",
       "  </tbody>\n",
       "</table>\n",
       "<p>310 rows × 5 columns</p>\n",
       "</div>"
      ],
      "text/plain": [
       "             日期           门店名称     GMV     门店实收  rankk\n",
       "0    2020-06-01  拌客干拌麻辣烫(武宁路店)  8848.0  2992.13      1\n",
       "1    2020-06-01            宝山店  1131.0   469.75      2\n",
       "2    2020-06-01            宝山店  1093.0   436.20      3\n",
       "3    2020-06-01           五角场店     0.0      NaN      4\n",
       "4    2020-06-01           怒江路店     0.0      NaN      4\n",
       "..          ...            ...     ...      ...    ...\n",
       "305  2020-07-31  拌客干拌麻辣烫(武宁路店)  3920.0  1079.26      1\n",
       "306  2020-07-31  拌客干拌麻辣烫(武宁路店)  3745.0   995.88      2\n",
       "307  2020-07-31            宝山店  1853.0   731.42      3\n",
       "308  2020-07-31            宝山店  1177.0   438.69      4\n",
       "309  2020-07-31  拌客干拌麻辣烫(武宁路店)     0.0      NaN      5\n",
       "\n",
       "[310 rows x 5 columns]"
      ]
     },
     "execution_count": 14,
     "metadata": {},
     "output_type": "execute_result"
    }
   ],
   "source": [
    "#请筛选出6、7月每天各个门店的GMV，门店实收，并按照门店实收进行排名。\n",
    "#输出字段：日期-门店名称-GMV-门店实收-排名\n",
    "gmv_incount = '''\n",
    "select  s.日期\n",
    "        ,s.门店名称\n",
    "        ,s.GMV\n",
    "        ,c.门店实收\n",
    "        ,rank() over (partition by 日期 order by 门店实收 desc) as rankk\n",
    "from    ddm.cpc c\n",
    "right join ddm.shop s\n",
    "on      c.日期 = s.日期\n",
    "and     c.门店ID=s.门店ID\n",
    "where   month(s.日期) in (6,7)\n",
    "order by s.日期,c.门店实收 desc\n",
    "    '''\n",
    "#execute执行操作\n",
    "cursor.execute(gmv_incount)\n",
    "result2 = cursor.fetchall()\n",
    "shop2 = pd.DataFrame(result2)\n",
    "shop2"
   ]
  },
  {
   "cell_type": "code",
   "execution_count": null,
   "id": "6650e740",
   "metadata": {},
   "outputs": [],
   "source": []
  }
 ],
 "metadata": {
  "kernelspec": {
   "display_name": "Python [conda env:root] *",
   "language": "python",
   "name": "conda-root-py"
  },
  "language_info": {
   "codemirror_mode": {
    "name": "ipython",
    "version": 3
   },
   "file_extension": ".py",
   "mimetype": "text/x-python",
   "name": "python",
   "nbconvert_exporter": "python",
   "pygments_lexer": "ipython3",
   "version": "3.8.8"
  },
  "toc": {
   "base_numbering": 1,
   "nav_menu": {},
   "number_sections": true,
   "sideBar": true,
   "skip_h1_title": false,
   "title_cell": "Table of Contents",
   "title_sidebar": "Contents",
   "toc_cell": false,
   "toc_position": {},
   "toc_section_display": true,
   "toc_window_display": true
  }
 },
 "nbformat": 4,
 "nbformat_minor": 5
}
