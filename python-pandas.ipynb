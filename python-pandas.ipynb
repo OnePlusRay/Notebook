{
 "cells": [
  {
   "attachments": {},
   "cell_type": "markdown",
   "metadata": {},
   "source": [
    "# Python-Pandas\n",
    "## 对象的创建\n",
    "- 导入Pandas时，通常给其一个别名“pd”，即import pandas as pd；\n",
    "\n",
    "- 作为标签库，Pandas对象在Numpy数组基础之上给予行列标签，可以说，列表之于字典，就如Numpy之于Pandas；\n",
    "\n",
    "- Pandas中，所有数组特性仍在，Pandas的数据以Numpy数组的方式存储。\n",
    "\n",
    "### 一维对象的创建\n",
    "#### 字典创建法\n",
    "Numpy中，可以通过np.array()函数，将Python列表转化为Numpy数组；同样，Pandas中，可以通过pd.Series()函数，将Python字典转化为Series对象。"
   ]
  },
  {
   "cell_type": "code",
   "execution_count": 1,
   "metadata": {},
   "outputs": [
    {
     "data": {
      "text/plain": [
       "a    0.00\n",
       "b    0.25\n",
       "c    0.50\n",
       "d    0.75\n",
       "e    1.00\n",
       "dtype: float64"
      ]
     },
     "execution_count": 1,
     "metadata": {},
     "output_type": "execute_result"
    }
   ],
   "source": [
    "import pandas as pd\n",
    "# 创建字典\n",
    "dict_v = {'a':0, 'b':0.25, 'c':0.5, 'd':0.75, 'e':1}\n",
    "# 用字典创建对象\n",
    "sr = pd.Series(dict_v)\n",
    "sr"
   ]
  },
  {
   "attachments": {},
   "cell_type": "markdown",
   "metadata": {},
   "source": [
    "#### 数组创建法\n",
    "最直接的创建方法即直接给pd.Series()函数参数，其需要两个参数。第一个参数是值values（列表，数组，张量均可），第二个参数是件index（索引）。"
   ]
  },
  {
   "cell_type": "code",
   "execution_count": 8,
   "metadata": {},
   "outputs": [
    {
     "data": {
      "text/plain": [
       "a    0.00\n",
       "b    0.25\n",
       "c    0.50\n",
       "d    0.75\n",
       "e    1.00\n",
       "dtype: float64"
      ]
     },
     "execution_count": 8,
     "metadata": {},
     "output_type": "execute_result"
    }
   ],
   "source": [
    "import numpy as np\n",
    "import torch\n",
    "# 先定义键与值\n",
    "v1 = [0, 0.25, 0.5, 0.75, 1]\n",
    "v2 = np.array([0, 0.25, 0.5, 0.75, 1])\n",
    "v3 = torch.tensor([0, 0.25, 0.5, 0.75, 1])\n",
    "k = ['a', 'b', 'c', 'd', 'e']\n",
    "# 用列表创建对象\n",
    "sr = pd.Series(v1, index=k)\n",
    "sr # 可以发现tensor的浮点数格式为float32"
   ]
  },
  {
   "attachments": {},
   "cell_type": "markdown",
   "metadata": {},
   "source": [
    "### 一维对象的属性\n",
    "Series对象有两个属性：values与index。"
   ]
  },
  {
   "cell_type": "code",
   "execution_count": 17,
   "metadata": {},
   "outputs": [
    {
     "name": "stdout",
     "output_type": "stream",
     "text": [
      "1号    53\n",
      "2号    64\n",
      "3号    72\n",
      "4号    82\n",
      "dtype: int64\n",
      "[53 64 72 82]\n",
      "Index(['1号', '2号', '3号', '4号'], dtype='object')\n"
     ]
    }
   ],
   "source": [
    "# 用列表创建sr\n",
    "v1 = [53, 64, 72, 82]\n",
    "v2 = torch.tensor(v1)\n",
    "k = ['1号', '2号', '3号', '4号']\n",
    "sr = pd.Series(v1, index=k)\n",
    "print(sr)\n",
    "print(sr.values)\n",
    "print(sr.index)"
   ]
  },
  {
   "attachments": {},
   "cell_type": "markdown",
   "metadata": {},
   "source": [
    "由结果知道，无论用列表，数组还是张量，得到的Series.values都是Numpy数组，说明Pandas是建立在Numpy基础上的库。\n",
    "### 二维对象的创建\n",
    "#### 字典创建法\n",
    "用字典创建二维对象时，必须基于多个Series对象，每一个Series对象就是一列数据，相当于对一列一列的数据作拼接。\n",
    "- 创建Series对象时，字典的键是index，其延展方向是竖直方向；\n",
    "- 创建DataFrame对象时，字典的键是columns，其延展方向是水平方向。"
   ]
  },
  {
   "cell_type": "code",
   "execution_count": 25,
   "metadata": {},
   "outputs": [
    {
     "name": "stdout",
     "output_type": "stream",
     "text": [
      "1号    53\n",
      "2号    64\n",
      "3号    72\n",
      "4号    82\n",
      "dtype: int64\n",
      "1号    女\n",
      "2号    男\n",
      "3号    男\n",
      "4号    女\n",
      "dtype: object\n"
     ]
    },
    {
     "data": {
      "text/html": [
       "<div>\n",
       "<style scoped>\n",
       "    .dataframe tbody tr th:only-of-type {\n",
       "        vertical-align: middle;\n",
       "    }\n",
       "\n",
       "    .dataframe tbody tr th {\n",
       "        vertical-align: top;\n",
       "    }\n",
       "\n",
       "    .dataframe thead th {\n",
       "        text-align: right;\n",
       "    }\n",
       "</style>\n",
       "<table border=\"1\" class=\"dataframe\">\n",
       "  <thead>\n",
       "    <tr style=\"text-align: right;\">\n",
       "      <th></th>\n",
       "      <th>年龄</th>\n",
       "      <th>性别</th>\n",
       "    </tr>\n",
       "  </thead>\n",
       "  <tbody>\n",
       "    <tr>\n",
       "      <th>1号</th>\n",
       "      <td>53</td>\n",
       "      <td>女</td>\n",
       "    </tr>\n",
       "    <tr>\n",
       "      <th>2号</th>\n",
       "      <td>64</td>\n",
       "      <td>男</td>\n",
       "    </tr>\n",
       "    <tr>\n",
       "      <th>3号</th>\n",
       "      <td>72</td>\n",
       "      <td>男</td>\n",
       "    </tr>\n",
       "    <tr>\n",
       "      <th>4号</th>\n",
       "      <td>82</td>\n",
       "      <td>女</td>\n",
       "    </tr>\n",
       "  </tbody>\n",
       "</table>\n",
       "</div>"
      ],
      "text/plain": [
       "    年龄 性别\n",
       "1号  53  女\n",
       "2号  64  男\n",
       "3号  72  男\n",
       "4号  82  女"
      ]
     },
     "execution_count": 25,
     "metadata": {},
     "output_type": "execute_result"
    }
   ],
   "source": [
    "# 创建sr1和sr2\n",
    "v1 = [53, 64, 72, 82]\n",
    "v2 = ['女', '男', '男', '女']\n",
    "i = ['1号', '2号', '3号', '4号']\n",
    "sr1 = pd.Series(v1, index=i)\n",
    "sr2 = pd.Series(v2, index=i)\n",
    "print(sr1)\n",
    "print(sr2)\n",
    "\n",
    "# 创建df对象\n",
    "df = pd.DataFrame({'年龄':sr1, '性别':sr2})\n",
    "df"
   ]
  },
  {
   "attachments": {},
   "cell_type": "markdown",
   "metadata": {},
   "source": [
    "#### 数组创建法\n",
    "最直接的创建方法即直接给pd.DataFrame函数参数，其需要三个参数。第一个参数是值values（数组），第二个参数是行标签index，第三个参数是列标签columns。其中，index和columns参数可以省略，省略后即从0开始的顺序数字。"
   ]
  },
  {
   "cell_type": "code",
   "execution_count": 30,
   "metadata": {},
   "outputs": [
    {
     "data": {
      "text/html": [
       "<div>\n",
       "<style scoped>\n",
       "    .dataframe tbody tr th:only-of-type {\n",
       "        vertical-align: middle;\n",
       "    }\n",
       "\n",
       "    .dataframe tbody tr th {\n",
       "        vertical-align: top;\n",
       "    }\n",
       "\n",
       "    .dataframe thead th {\n",
       "        text-align: right;\n",
       "    }\n",
       "</style>\n",
       "<table border=\"1\" class=\"dataframe\">\n",
       "  <thead>\n",
       "    <tr style=\"text-align: right;\">\n",
       "      <th></th>\n",
       "      <th>年龄</th>\n",
       "      <th>性别</th>\n",
       "    </tr>\n",
       "  </thead>\n",
       "  <tbody>\n",
       "    <tr>\n",
       "      <th>1号</th>\n",
       "      <td>53</td>\n",
       "      <td>女</td>\n",
       "    </tr>\n",
       "    <tr>\n",
       "      <th>2号</th>\n",
       "      <td>64</td>\n",
       "      <td>男</td>\n",
       "    </tr>\n",
       "    <tr>\n",
       "      <th>3号</th>\n",
       "      <td>72</td>\n",
       "      <td>男</td>\n",
       "    </tr>\n",
       "    <tr>\n",
       "      <th>4号</th>\n",
       "      <td>82</td>\n",
       "      <td>女</td>\n",
       "    </tr>\n",
       "  </tbody>\n",
       "</table>\n",
       "</div>"
      ],
      "text/plain": [
       "    年龄 性别\n",
       "1号  53  女\n",
       "2号  64  男\n",
       "3号  72  男\n",
       "4号  82  女"
      ]
     },
     "execution_count": 30,
     "metadata": {},
     "output_type": "execute_result"
    }
   ],
   "source": [
    "# 设定键值\n",
    "v = np.array([[53, '女'], [64, '男'], [72, '男'], [82, '女']])\n",
    "i = ['1号', '2号', '3号', '4号']\n",
    "c = ['年龄', '性别']\n",
    "# 数组创建法\n",
    "df = pd.DataFrame(v, index=i, columns=c)\n",
    "df"
   ]
  },
  {
   "attachments": {},
   "cell_type": "markdown",
   "metadata": {},
   "source": [
    "这里我们发现一个问题，我们说 Numpy 数组只能容纳一种变量类型，但是上面代码块中 Numpy 数组居然又含数字又含字符串，这里的原理是数组默默把数字转成了字符串，于是 v 是一个字符串型数组。"
   ]
  },
  {
   "attachments": {},
   "cell_type": "markdown",
   "metadata": {},
   "source": [
    "### 二维对象的属性\n",
    "DataFrame对象有三个属性：values，index 和 columns。"
   ]
  },
  {
   "cell_type": "code",
   "execution_count": 32,
   "metadata": {},
   "outputs": [
    {
     "data": {
      "text/plain": [
       "(array([['53', '女'],\n",
       "        ['64', '男'],\n",
       "        ['72', '男'],\n",
       "        ['82', '女']], dtype=object),\n",
       " Index(['1号', '2号', '3号', '4号'], dtype='object'),\n",
       " Index(['年龄', '性别'], dtype='object'))"
      ]
     },
     "execution_count": 32,
     "metadata": {},
     "output_type": "execute_result"
    }
   ],
   "source": [
    "# 设定键值\n",
    "v = np.array([[53, '女'], [64, '男'], [72, '男'], [82, '女']])\n",
    "i = ['1号', '2号', '3号', '4号']\n",
    "c = ['年龄', '性别']\n",
    "# 数组创建法\n",
    "df = pd.DataFrame(v, index=i, columns=c)\n",
    "df.values, df.index, df.columns"
   ]
  },
  {
   "attachments": {},
   "cell_type": "markdown",
   "metadata": {},
   "source": [
    "当想要 Pandas 退化为 NumPy 数组时，查看其 values 属性即可。"
   ]
  },
  {
   "cell_type": "code",
   "execution_count": 34,
   "metadata": {},
   "outputs": [
    {
     "name": "stdout",
     "output_type": "stream",
     "text": [
      "[['53' '女']\n",
      " ['64' '男']\n",
      " ['72' '男']\n",
      " ['82' '女']]\n",
      "[53 64 72 82]\n"
     ]
    }
   ],
   "source": [
    "# 提取完整的数组\n",
    "arr = df.values\n",
    "print(arr)\n",
    "\n",
    "# 提取第[0]列，并转化为一个整数型数组\n",
    "arr = arr[:, 0].astype(int)\n",
    "print(arr)"
   ]
  },
  {
   "attachments": {},
   "cell_type": "markdown",
   "metadata": {},
   "source": [
    "## 对象的索引\n",
    "在学习 Pandas 的索引之前，需要知道：\n",
    "- **Pandas 的索引分为显式索引和隐式索引**。显式索引是使用 Pandas 对象提供的索引，而隐式索引是使用数组本身自带的从 0 开始的索引。\n",
    "- 现假设某演示代码中的索引是整数，这个时候显式索引和隐式索引可能会出乱子。于是 Pandas 作者发明了**索引器 loc（显式）与 iloc（隐式）**，手动告诉程序自己这句话是显式还是隐式。\n",
    "- 本章示例中，若代码块出现两栏，则**左侧为显式索引，右侧为隐式索引**，左右两列属于平行关系，任选其一即可。\n",
    "\n",
    "### 一维对象的索引\n",
    "#### 访问元素"
   ]
  },
  {
   "cell_type": "code",
   "execution_count": 45,
   "metadata": {},
   "outputs": [
    {
     "name": "stdout",
     "output_type": "stream",
     "text": [
      "72\n",
      "1号    53\n",
      "3号    72\n",
      "dtype: int64\n",
      "72\n",
      "1号    53\n",
      "3号    72\n",
      "dtype: int64\n"
     ]
    }
   ],
   "source": [
    "v = [53, 64, 72, 82]\n",
    "k = ['1号', '2号', '3号', '4号']\n",
    "sr = pd.Series(v, index=k)\n",
    "# 显式索引\n",
    "print(sr.loc['3号']) \n",
    "print(sr.loc[['1号', '3号']])\n",
    "# 隐式索引\n",
    "print(sr.iloc[2])\n",
    "print(sr.iloc[[0, 2]])"
   ]
  },
  {
   "attachments": {},
   "cell_type": "markdown",
   "metadata": {},
   "source": [
    "#### 访问切片\n",
    "使用显式索引时，'1号' : '3号' 可以涵盖最后一个 '3号'，但隐式与之前一样。"
   ]
  },
  {
   "cell_type": "code",
   "execution_count": 48,
   "metadata": {},
   "outputs": [
    {
     "name": "stdout",
     "output_type": "stream",
     "text": [
      "1号    53\n",
      "2号    64\n",
      "3号    72\n",
      "dtype: int64\n",
      "1号    100\n",
      "2号     64\n",
      "3号     72\n",
      "4号     82\n",
      "dtype: int64\n",
      "1号    100\n",
      "2号     64\n",
      "3号    200\n",
      "4号     82\n",
      "dtype: int64\n"
     ]
    }
   ],
   "source": [
    "v = [53, 64, 72, 82]\n",
    "k = ['1号', '2号', '3号', '4号']\n",
    "sr = pd.Series(v, index=k)\n",
    "# 访问切片\n",
    "cut = sr.loc['1号':'3号']\n",
    "print(cut)\n",
    "# 切片仅是视图\n",
    "cut.loc['1号'] = 100\n",
    "print(sr)\n",
    "# 对象赋值仅是绑定\n",
    "cut = sr\n",
    "cut.loc['3号'] = 200\n",
    "print(sr)"
   ]
  },
  {
   "attachments": {},
   "cell_type": "markdown",
   "metadata": {},
   "source": [
    "如果去掉 loc() 和 iloc()，此时与 NumPy 中的索引语法完全一致。\n",
    "### 二维对象的索引\n",
    "在二维对象中，索引器不能去掉，否则会报错。"
   ]
  },
  {
   "cell_type": "code",
   "execution_count": 54,
   "metadata": {},
   "outputs": [
    {
     "name": "stdout",
     "output_type": "stream",
     "text": [
      "53\n",
      "   性别  年龄\n",
      "1号  女  53\n",
      "3号  男  72\n"
     ]
    },
    {
     "data": {
      "text/html": [
       "<div>\n",
       "<style scoped>\n",
       "    .dataframe tbody tr th:only-of-type {\n",
       "        vertical-align: middle;\n",
       "    }\n",
       "\n",
       "    .dataframe tbody tr th {\n",
       "        vertical-align: top;\n",
       "    }\n",
       "\n",
       "    .dataframe thead th {\n",
       "        text-align: right;\n",
       "    }\n",
       "</style>\n",
       "<table border=\"1\" class=\"dataframe\">\n",
       "  <thead>\n",
       "    <tr style=\"text-align: right;\">\n",
       "      <th></th>\n",
       "      <th>年龄</th>\n",
       "      <th>性别</th>\n",
       "    </tr>\n",
       "  </thead>\n",
       "  <tbody>\n",
       "    <tr>\n",
       "      <th>1号</th>\n",
       "      <td>53</td>\n",
       "      <td>女</td>\n",
       "    </tr>\n",
       "    <tr>\n",
       "      <th>2号</th>\n",
       "      <td>64</td>\n",
       "      <td>男</td>\n",
       "    </tr>\n",
       "    <tr>\n",
       "      <th>3号</th>\n",
       "      <td>100</td>\n",
       "      <td>男</td>\n",
       "    </tr>\n",
       "    <tr>\n",
       "      <th>4号</th>\n",
       "      <td>82</td>\n",
       "      <td>女</td>\n",
       "    </tr>\n",
       "  </tbody>\n",
       "</table>\n",
       "</div>"
      ],
      "text/plain": [
       "     年龄 性别\n",
       "1号   53  女\n",
       "2号   64  男\n",
       "3号  100  男\n",
       "4号   82  女"
      ]
     },
     "execution_count": 54,
     "metadata": {},
     "output_type": "execute_result"
    }
   ],
   "source": [
    "# 访问元素，以显式索引为例\n",
    "v1 = [53, 64, 72, 82]\n",
    "v2 = ['女', '男', '男', '女']\n",
    "i = ['1号', '2号', '3号', '4号']\n",
    "sr1 = pd.Series(v1, index=i)\n",
    "sr2 = pd.Series(v2, index=i)\n",
    "df = pd.DataFrame({'年龄':sr1, '性别':sr2})\n",
    "# 访问元素\n",
    "print(df.loc['1号', '年龄'])\n",
    "# 花式索引\n",
    "print(df.loc[['1号', '3号'], ['性别', '年龄']])\n",
    "# 修改元素\n",
    "df.loc['3号', '年龄'] = 100\n",
    "df"
   ]
  },
  {
   "cell_type": "code",
   "execution_count": 57,
   "metadata": {},
   "outputs": [
    {
     "name": "stdout",
     "output_type": "stream",
     "text": [
      "    年龄 性别\n",
      "1号  53  女\n",
      "2号  64  男\n",
      "3号  72  男\n",
      "4号  82  女\n",
      "1号    53\n",
      "2号    64\n",
      "3号    72\n",
      "Name: 年龄, dtype: int64\n",
      "年龄    72\n",
      "性别     男\n",
      "Name: 3号, dtype: object\n",
      "1号    53\n",
      "2号    64\n",
      "3号    72\n",
      "4号    82\n",
      "Name: 年龄, dtype: int64\n"
     ]
    }
   ],
   "source": [
    "# 访问切片，以隐式索引为例\n",
    "v = [[53, '女'], [64, '男'], [72, '男'], [82, '女']]\n",
    "i = ['1号', '2号', '3号', '4号']\n",
    "c = ['年龄', '性别']\n",
    "df = pd.DataFrame(v, index=i, columns=c)\n",
    "print(df)\n",
    "# 切片\n",
    "print(df.iloc[0:3, 0])\n",
    "# 提取二维对象的行\n",
    "print(df.iloc[2,:])\n",
    "# 提取矩阵对象的列\n",
    "print(df.iloc[:,0])"
   ]
  },
  {
   "attachments": {},
   "cell_type": "markdown",
   "metadata": {},
   "source": [
    "在显式索引中，提取矩阵的行或列还有一种简便写法：\n",
    "- 提取二维对象的行：df.loc['3号']（原理是省略后面的冒号，隐式也可以）\n",
    "- 提取二维对象的列：df['年龄']（原理是列标签本身就是二维对象的键）\n",
    "## 对象的变形\n",
    "### 对象的转置\n",
    "有时候提供的大数据很畸形，行是特征，列是个体，这必须要先进行转置。"
   ]
  },
  {
   "cell_type": "code",
   "execution_count": 60,
   "metadata": {},
   "outputs": [
    {
     "name": "stdout",
     "output_type": "stream",
     "text": [
      "    1号  2号  3号  4号\n",
      "年龄  53  64  72  82\n",
      "性别   女   男   男   女\n"
     ]
    },
    {
     "data": {
      "text/html": [
       "<div>\n",
       "<style scoped>\n",
       "    .dataframe tbody tr th:only-of-type {\n",
       "        vertical-align: middle;\n",
       "    }\n",
       "\n",
       "    .dataframe tbody tr th {\n",
       "        vertical-align: top;\n",
       "    }\n",
       "\n",
       "    .dataframe thead th {\n",
       "        text-align: right;\n",
       "    }\n",
       "</style>\n",
       "<table border=\"1\" class=\"dataframe\">\n",
       "  <thead>\n",
       "    <tr style=\"text-align: right;\">\n",
       "      <th></th>\n",
       "      <th>年龄</th>\n",
       "      <th>性别</th>\n",
       "    </tr>\n",
       "  </thead>\n",
       "  <tbody>\n",
       "    <tr>\n",
       "      <th>1号</th>\n",
       "      <td>53</td>\n",
       "      <td>女</td>\n",
       "    </tr>\n",
       "    <tr>\n",
       "      <th>2号</th>\n",
       "      <td>64</td>\n",
       "      <td>男</td>\n",
       "    </tr>\n",
       "    <tr>\n",
       "      <th>3号</th>\n",
       "      <td>72</td>\n",
       "      <td>男</td>\n",
       "    </tr>\n",
       "    <tr>\n",
       "      <th>4号</th>\n",
       "      <td>82</td>\n",
       "      <td>女</td>\n",
       "    </tr>\n",
       "  </tbody>\n",
       "</table>\n",
       "</div>"
      ],
      "text/plain": [
       "    年龄 性别\n",
       "1号  53  女\n",
       "2号  64  男\n",
       "3号  72  男\n",
       "4号  82  女"
      ]
     },
     "execution_count": 60,
     "metadata": {},
     "output_type": "execute_result"
    }
   ],
   "source": [
    "# 创建畸形df\n",
    "v = [[53, 64, 72, 82], ['女', '男', '男', '女']]\n",
    "c = ['1号', '2号', '3号', '4号']\n",
    "i = ['年龄', '性别']\n",
    "df = pd.DataFrame(v, index=i, columns=c)\n",
    "print(df)\n",
    "# 转置\n",
    "df = df.T\n",
    "df"
   ]
  },
  {
   "attachments": {},
   "cell_type": "markdown",
   "metadata": {},
   "source": [
    "### 对象的翻转\n",
    "紧接上面的例子，对 Pandas 对象进行左右翻转与上下翻转。"
   ]
  },
  {
   "cell_type": "code",
   "execution_count": 65,
   "metadata": {},
   "outputs": [
    {
     "name": "stdout",
     "output_type": "stream",
     "text": [
      "    年龄 性别\n",
      "1号  53  女\n",
      "2号  64  男\n",
      "3号  72  男\n",
      "4号  82  女\n",
      "   性别  年龄\n",
      "1号  女  53\n",
      "2号  男  64\n",
      "3号  男  72\n",
      "4号  女  82\n",
      "   性别  年龄\n",
      "4号  女  82\n",
      "3号  男  72\n",
      "2号  男  64\n",
      "1号  女  53\n"
     ]
    }
   ],
   "source": [
    "v = [[53, '女'], [64, '男'], [72, '男'], [82, '女']]\n",
    "i = ['1号', '2号', '3号', '4号']\n",
    "c = ['年龄', '性别']\n",
    "df = pd.DataFrame(v, index=i, columns=c)\n",
    "print(df)\n",
    "# 左右翻转\n",
    "df = df.iloc[:, ::-1] # 采样间隔是-1，相当于倒着采样\n",
    "print(df)\n",
    "# 上下翻转\n",
    "df = df.iloc[::-1, :]\n",
    "print(df)"
   ]
  },
  {
   "attachments": {},
   "cell_type": "markdown",
   "metadata": {},
   "source": [
    "### 对象的重塑\n",
    "考虑到对象是含有行列标签的，reshape() 方法不再适用，因此对象的重塑没有那么灵活。但可以做到将 sr 并入 df，也可以将 df 割出 sr。"
   ]
  },
  {
   "cell_type": "code",
   "execution_count": 69,
   "metadata": {},
   "outputs": [
    {
     "name": "stdout",
     "output_type": "stream",
     "text": [
      "1号    10\n",
      "2号    20\n",
      "3号    30\n",
      "4号    40\n",
      "dtype: int64\n",
      "1号    女\n",
      "2号    男\n",
      "3号    男\n",
      "4号    女\n",
      "dtype: object\n",
      "1号    1\n",
      "2号    2\n",
      "3号    3\n",
      "4号    4\n",
      "dtype: int64\n",
      "    年龄 性别  牌照\n",
      "1号  10  女   1\n",
      "2号  20  男   2\n",
      "3号  30  男   3\n",
      "4号  40  女   4\n",
      "1号    10\n",
      "2号    20\n",
      "3号    30\n",
      "4号    40\n",
      "Name: 年龄, dtype: int64\n"
     ]
    }
   ],
   "source": [
    "i = ['1号', '2号', '3号', '4号']\n",
    "v1 = [10, 20, 30, 40]\n",
    "v2 = ['女', '男', '男', '女']\n",
    "v3 = [1, 2, 3, 4]\n",
    "sr1 = pd.Series(v1, index=i)\n",
    "sr2 = pd.Series(v2, index=i)\n",
    "sr3 = pd.Series(v3, index=i)\n",
    "print(sr1)\n",
    "print(sr2)\n",
    "print(sr3)\n",
    "df = pd.DataFrame({'年龄':sr1, '性别':sr2})\n",
    "# 把sr并入df中\n",
    "df['牌照'] = sr3\n",
    "print(df)\n",
    "# 把df['年龄']分离成sr4\n",
    "sr4 = df['年龄']\n",
    "print(sr4)"
   ]
  },
  {
   "attachments": {},
   "cell_type": "markdown",
   "metadata": {},
   "source": [
    "### 对象的拼接\n",
    "Pandas 中有一个 pd.concat() 函数，与 np.concatenate() 函数语法相似。\n",
    "#### 一维对象的合并"
   ]
  },
  {
   "cell_type": "code",
   "execution_count": 73,
   "metadata": {},
   "outputs": [
    {
     "name": "stdout",
     "output_type": "stream",
     "text": [
      "1号    10\n",
      "2号    20\n",
      "3号    30\n",
      "4号    40\n",
      "dtype: int64\n",
      "4号    40\n",
      "5号    50\n",
      "6号    60\n",
      "dtype: int64\n",
      "1号    10\n",
      "2号    20\n",
      "3号    30\n",
      "4号    40\n",
      "4号    40\n",
      "5号    50\n",
      "6号    60\n",
      "dtype: int64\n",
      "False\n"
     ]
    }
   ],
   "source": [
    "v1 = [10, 20, 30, 40]\n",
    "v2 = [40, 50, 60]\n",
    "k1 = ['1号', '2号', '3号', '4号']\n",
    "k2 = ['4号', '5号', '6号']\n",
    "sr1 = pd.Series(v1, index=k1)\n",
    "sr2 = pd.Series(v2, index=k2)\n",
    "print(sr1)\n",
    "print(sr2)\n",
    "# 合并\n",
    "sr3 = pd.concat([sr1, sr2])\n",
    "print(sr3)\n",
    "# 检查index是否有重复\n",
    "print(sr3.index.is_unique)"
   ]
  },
  {
   "attachments": {},
   "cell_type": "markdown",
   "metadata": {},
   "source": [
    "#### 一维对象与二维对象的合并\n",
    "一维对象与二维对象的合并可以理解为：给二维对象加上一列或者一行。因此不必使用 pd.concat() 函数，只需借助“二维对象的索引”语法。"
   ]
  },
  {
   "cell_type": "code",
   "execution_count": 78,
   "metadata": {},
   "outputs": [
    {
     "name": "stdout",
     "output_type": "stream",
     "text": [
      "1号    10\n",
      "2号    20\n",
      "3号    30\n",
      "dtype: int64\n",
      "1号    女\n",
      "2号    男\n",
      "3号    男\n",
      "dtype: object\n",
      "    年龄 性别\n",
      "1号  10  女\n",
      "2号  20  男\n",
      "3号  30  男\n"
     ]
    },
    {
     "data": {
      "text/html": [
       "<div>\n",
       "<style scoped>\n",
       "    .dataframe tbody tr th:only-of-type {\n",
       "        vertical-align: middle;\n",
       "    }\n",
       "\n",
       "    .dataframe tbody tr th {\n",
       "        vertical-align: top;\n",
       "    }\n",
       "\n",
       "    .dataframe thead th {\n",
       "        text-align: right;\n",
       "    }\n",
       "</style>\n",
       "<table border=\"1\" class=\"dataframe\">\n",
       "  <thead>\n",
       "    <tr style=\"text-align: right;\">\n",
       "      <th></th>\n",
       "      <th>年龄</th>\n",
       "      <th>性别</th>\n",
       "      <th>牌照</th>\n",
       "    </tr>\n",
       "  </thead>\n",
       "  <tbody>\n",
       "    <tr>\n",
       "      <th>1号</th>\n",
       "      <td>10</td>\n",
       "      <td>女</td>\n",
       "      <td>1</td>\n",
       "    </tr>\n",
       "    <tr>\n",
       "      <th>2号</th>\n",
       "      <td>20</td>\n",
       "      <td>男</td>\n",
       "      <td>2</td>\n",
       "    </tr>\n",
       "    <tr>\n",
       "      <th>3号</th>\n",
       "      <td>30</td>\n",
       "      <td>男</td>\n",
       "      <td>3</td>\n",
       "    </tr>\n",
       "    <tr>\n",
       "      <th>4号</th>\n",
       "      <td>40</td>\n",
       "      <td>女</td>\n",
       "      <td>4</td>\n",
       "    </tr>\n",
       "  </tbody>\n",
       "</table>\n",
       "</div>"
      ],
      "text/plain": [
       "    年龄 性别  牌照\n",
       "1号  10  女   1\n",
       "2号  20  男   2\n",
       "3号  30  男   3\n",
       "4号  40  女   4"
      ]
     },
     "execution_count": 78,
     "metadata": {},
     "output_type": "execute_result"
    }
   ],
   "source": [
    "v1 = [10, 20, 30]\n",
    "v2 = ['女', '男', '男']\n",
    "sr1 = pd.Series(v1, index=['1号', '2号', '3号'])\n",
    "sr2 = pd.Series(v2, index=['1号', '2号', '3号'])\n",
    "print(sr1)\n",
    "print(sr2)\n",
    "df = pd.DataFrame({'年龄':sr1, '性别':sr2})\n",
    "print(df)\n",
    "# 加上一列\n",
    "df['牌照'] = [1, 2, 3]\n",
    "# 加上一行\n",
    "df.loc['4号'] = [40, '女', 4]\n",
    "df"
   ]
  },
  {
   "attachments": {},
   "cell_type": "markdown",
   "metadata": {},
   "source": [
    "#### 二维对象的合并\n",
    "二维对象合并仍然用 pd.concat() 函数，不过多了一个 axis 参数。"
   ]
  },
  {
   "cell_type": "code",
   "execution_count": 80,
   "metadata": {},
   "outputs": [
    {
     "name": "stdout",
     "output_type": "stream",
     "text": [
      "    年龄 性别  牌照 ikun\n",
      "1号  10  女   1    是\n",
      "2号  20  男   2    是\n",
      "3号  30  男   3    是\n",
      "4号  40  女   4    否\n",
      "    年龄 性别  牌照 ikun\n",
      "1号  10  女   1    是\n",
      "2号  20  男   2    是\n",
      "3号  30  男   3    是\n",
      "4号  40  女   4    否\n",
      "5号  50  男   5    是\n",
      "6号  60  女   6    是\n"
     ]
    }
   ],
   "source": [
    "v1 = [[10, '女'], [20, '男'], [30, '男'], [40, '女']]\n",
    "v2 = [[1, '是'], [2, '是'], [3, '是'], [4, '否']]\n",
    "v3 = [[50, '男', 5, '是'], [60, '女', 6, '是']]\n",
    "i1 = ['1号', '2号', '3号', '4号']\n",
    "i2 = ['1号', '2号', '3号', '4号']\n",
    "i3 = ['5号', '6号']\n",
    "c1 = ['年龄', '性别']\n",
    "c2 = ['牌照', 'ikun']\n",
    "c3 = ['年龄', '性别', '牌照', 'ikun']\n",
    "df1 = pd.DataFrame(v1, index=i1, columns=c1)\n",
    "df2 = pd.DataFrame(v2, index=i2, columns=c2)\n",
    "df3 = pd.DataFrame(v3, index=i3, columns=c3)\n",
    "# 合并列对象\n",
    "df = pd.concat([df1, df2], axis=1)\n",
    "print(df)\n",
    "# 合并行对象\n",
    "df = pd.concat([df, df3], axis=0)\n",
    "print(df)"
   ]
  }
 ],
 "metadata": {
  "kernelspec": {
   "display_name": "pytorch1",
   "language": "python",
   "name": "pytorch"
  },
  "language_info": {
   "codemirror_mode": {
    "name": "ipython",
    "version": 3
   },
   "file_extension": ".py",
   "mimetype": "text/x-python",
   "name": "python",
   "nbconvert_exporter": "python",
   "pygments_lexer": "ipython3",
   "version": "3.9.18"
  },
  "orig_nbformat": 4
 },
 "nbformat": 4,
 "nbformat_minor": 2
}
