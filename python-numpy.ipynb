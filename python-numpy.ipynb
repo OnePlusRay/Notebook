{
 "cells": [
  {
   "attachments": {},
   "cell_type": "markdown",
   "metadata": {},
   "source": [
    "# Python-Numpy\n",
    "本笔记基本架构出自[Python深度学习：NumPy数组库](https://www.bilibili.com/video/BV1H84y1g7RE/?p=3)。\n",
    "## 数组基础\n",
    "导入Numpy时，通常会给其一个别名“np”，即import numpy as np。\n",
    "### 数据类型\n",
    "#### 整数型数组与浮点型数组\n",
    "为了克服列表的缺点，一个numpy数组只容纳一种数据类型，以节约内存。为方便起见，可将numpy数组简单分为整数型数组与浮点型数组。"
   ]
  },
  {
   "cell_type": "code",
   "execution_count": 1,
   "metadata": {},
   "outputs": [
    {
     "name": "stdout",
     "output_type": "stream",
     "text": [
      "[1 2 3]\n",
      "[1. 2. 3.]\n"
     ]
    }
   ],
   "source": [
    "import numpy as np\n",
    "# 创建整数型数组\n",
    "arr1 = np.array([1, 2, 3])\n",
    "print(arr1)\n",
    "\n",
    "# 创建浮点型数组\n",
    "arr2 = np.array([1.0, 2, 3])\n",
    "print(arr2)"
   ]
  },
  {
   "attachments": {},
   "cell_type": "markdown",
   "metadata": {},
   "source": [
    "注意，我们使用print输出numpy数组后，元素之间没有逗号，这有两个好处：\n",
    "- 可以与python的列表区分开\n",
    "- 避免逗号与小数点之间的混淆\n",
    "\n",
    "#### 同化定理\n",
    "在实际操作中要注意：\n",
    "- 往整数型数组里插入浮点数，该浮点数会自动被截断为整数\n",
    "- 往浮点型数组里插入整数，该整数会被自动升级为浮点数"
   ]
  },
  {
   "cell_type": "code",
   "execution_count": 2,
   "metadata": {},
   "outputs": [
    {
     "name": "stdout",
     "output_type": "stream",
     "text": [
      "[100   2   3]\n",
      "[ 1. 10.  3.]\n"
     ]
    }
   ],
   "source": [
    "arr1[0] = 100.9\n",
    "print(arr1)\n",
    "\n",
    "arr2[1] = 10\n",
    "print(arr2)"
   ]
  },
  {
   "attachments": {},
   "cell_type": "markdown",
   "metadata": {},
   "source": [
    "#### 共同改变定理\n",
    "一个人不能改变集体，但只要全体共同改变，就可以成功。\n",
    "\n",
    "要实现整数型数组和浮点型数组之间的转化，规范的方法是使用astype()方法。"
   ]
  },
  {
   "cell_type": "code",
   "execution_count": 4,
   "metadata": {},
   "outputs": [
    {
     "name": "stdout",
     "output_type": "stream",
     "text": [
      "[1 2 3]\n",
      "[1. 2. 3.]\n",
      "[1 2 3]\n"
     ]
    }
   ],
   "source": [
    "# 整数型数组\n",
    "arr1 = np.array([1, 2, 3])\n",
    "print(arr1)\n",
    "\n",
    "# 整数型 -> 浮点型\n",
    "arr2 = arr1.astype(float)\n",
    "print(arr2)\n",
    "\n",
    "# 浮点型 -> 整数型\n",
    "arr3 = arr2.astype(int)\n",
    "print(arr3)"
   ]
  },
  {
   "attachments": {},
   "cell_type": "markdown",
   "metadata": {},
   "source": [
    "除了上述方法，只要满足共同改变定理，整数型数组和浮点型数组仍然可以互相转换。最常见的就是整数型数组在运算过程中升级为浮点型数组，示例如下。"
   ]
  },
  {
   "cell_type": "code",
   "execution_count": 7,
   "metadata": {},
   "outputs": [
    {
     "name": "stdout",
     "output_type": "stream",
     "text": [
      "[1 2 3]\n",
      "[2. 3. 4.]\n",
      "[1. 2. 3.]\n",
      "[2. 4. 6.]\n"
     ]
    }
   ],
   "source": [
    "# 整数型数组\n",
    "arr = np.array([1, 2, 3])\n",
    "print(arr)\n",
    "\n",
    "# 整数型数组与浮点数做运算\n",
    "print(arr + 1.0)\n",
    "\n",
    "# 整数型数组遇到除法（即便结果还是整数）\n",
    "print(arr / 1)\n",
    "\n",
    "# 整数型数组与浮点型数组做运算\n",
    "print(arr + np.array([1.0, 2.0, 3.0]))"
   ]
  },
  {
   "attachments": {},
   "cell_type": "markdown",
   "metadata": {},
   "source": [
    "整数型数组很好升级，但浮点型数组运算过程中一般不会降级。\n",
    "\n",
    "### 数组维度\n",
    "#### 一维数组与二维数组"
   ]
  },
  {
   "cell_type": "code",
   "execution_count": 12,
   "metadata": {},
   "outputs": [
    {
     "name": "stdout",
     "output_type": "stream",
     "text": [
      "[1. 1. 1.] (3,)\n",
      "[[1. 1. 1.]] (1, 3)\n",
      "[[[1. 1. 1.]]] (1, 1, 3)\n"
     ]
    }
   ],
   "source": [
    "# 一维数组\n",
    "arr1 = np.ones(3)\n",
    "print(arr1, arr1.shape)\n",
    "\n",
    "# 二维数组\n",
    "arr2 = np.ones((1, 3))\n",
    "print(arr2, arr2.shape)\n",
    "\n",
    "# 三维数组\n",
    "arr3 = np.ones((1, 1, 3))\n",
    "print(arr3, arr3.shape)"
   ]
  },
  {
   "attachments": {},
   "cell_type": "markdown",
   "metadata": {},
   "source": [
    "#### 不同维度数组之间的转换\n",
    "不同维度数组之间的转换需要用到数组的重塑方法reshape()，该方法需要传入重塑后的形状。该方法神奇的地方在于，给定了其他维度的数值，剩下一个维度可以填-1，让它自己去计算。"
   ]
  },
  {
   "cell_type": "code",
   "execution_count": 16,
   "metadata": {},
   "outputs": [
    {
     "name": "stdout",
     "output_type": "stream",
     "text": [
      "[0 1 2 3 4 5 6 7 8 9]\n",
      "[[0 1 2 3 4 5 6 7 8 9]]\n",
      "[[0 1 2 3 4]\n",
      " [5 6 7 8 9]]\n",
      "[0 1 2 3 4 5 6 7 8 9]\n"
     ]
    }
   ],
   "source": [
    "# 创建一维数组\n",
    "arr1 = np.arange(10)\n",
    "print(arr1)\n",
    "\n",
    "# 升级为二维数组\n",
    "arr2 = arr1.reshape(1, -1)\n",
    "print(arr2)\n",
    "\n",
    "# 维度重塑\n",
    "arr2 = arr2.reshape(2, 5)\n",
    "print(arr2)\n",
    "\n",
    "# 降级为一维数组\n",
    "arr1 = arr2.reshape(-1)\n",
    "print(arr1)"
   ]
  },
  {
   "attachments": {},
   "cell_type": "markdown",
   "metadata": {},
   "source": [
    "## 数组的创建\n",
    "数组的创建主要有四种方法：\n",
    "- 创建指定数组\n",
    "- 创建递增数组\n",
    "- 创建同值数组\n",
    "- 创建随机数组\n",
    "### 创建指定数组\n",
    "当明确数组每一个元素的具体数值时，可以使用np.array()函数，将python列表转化为numpy数组。"
   ]
  },
  {
   "cell_type": "code",
   "execution_count": 18,
   "metadata": {},
   "outputs": [
    {
     "name": "stdout",
     "output_type": "stream",
     "text": [
      "[1 2 3] (3,)\n",
      "[[1 2 3]] (1, 3)\n",
      "[[1]\n",
      " [2]\n",
      " [3]] (3, 1)\n",
      "[[1 2 3]\n",
      " [4 5 6]] (2, 3)\n"
     ]
    }
   ],
   "source": [
    "# 创建一维数组——向量\n",
    "arr1 = np.array([1, 2, 3])\n",
    "print(arr1, arr1.shape)\n",
    "\n",
    "# 创建二维数组——行矩阵\n",
    "arr2 = np.array([[1, 2, 3]])\n",
    "print(arr2, arr2.shape)\n",
    "\n",
    "# 创建二维数组——列矩阵（比行矩阵更消耗内存）\n",
    "arr3 = np.array([[1], [2], [3]])\n",
    "print(arr3, arr3.shape)\n",
    "\n",
    "# 创建二维数组——矩阵\n",
    "arr4 = np.array([[1, 2, 3], [4, 5, 6]])\n",
    "print(arr4, arr4.shape)"
   ]
  },
  {
   "attachments": {},
   "cell_type": "markdown",
   "metadata": {},
   "source": [
    "### 创建递增数组\n",
    "递增数组使用np.arange()函数进行创建（array_range）。"
   ]
  },
  {
   "cell_type": "code",
   "execution_count": 20,
   "metadata": {},
   "outputs": [
    {
     "data": {
      "text/plain": [
       "(array([0, 1, 2, 3, 4, 5, 6, 7, 8, 9]),\n",
       " array([10, 11, 12, 13, 14, 15, 16, 17, 18, 19]),\n",
       " array([ 1,  3,  5,  7,  9, 11, 13, 15, 17, 19]))"
      ]
     },
     "execution_count": 20,
     "metadata": {},
     "output_type": "execute_result"
    }
   ],
   "source": [
    "arr1 = np.arange(10) # 从0开始，到10之前结束\n",
    "arr2 = np.arange(10, 20) # 从10开始，到20之前结束\n",
    "arr3 = np.arange(1, 21, 2) # 从1开始，到21之前结束，步长为2\n",
    "arr1, arr2, arr3"
   ]
  },
  {
   "attachments": {},
   "cell_type": "markdown",
   "metadata": {},
   "source": [
    "### 创建同值数组\n",
    "通常使用np.zeros()和np.ones()函数。"
   ]
  },
  {
   "cell_type": "code",
   "execution_count": 21,
   "metadata": {},
   "outputs": [
    {
     "data": {
      "text/plain": [
       "(array([[0., 0., 0.]]),\n",
       " array([[1., 1., 1.]]),\n",
       " array([[3.14, 3.14, 3.14],\n",
       "        [3.14, 3.14, 3.14]]))"
      ]
     },
     "execution_count": 21,
     "metadata": {},
     "output_type": "execute_result"
    }
   ],
   "source": [
    "arr1 = np.zeros((1, 3))\n",
    "arr2 = np.ones((1, 3))\n",
    "arr3 = 3.14 * np.ones((2, 3))\n",
    "arr1, arr2, arr3"
   ]
  },
  {
   "attachments": {},
   "cell_type": "markdown",
   "metadata": {},
   "source": [
    "可以发现，上面创建的全0和全1数组都是浮点型数组，考虑是周到的。\n",
    "\n",
    "### 创建随机数组\n",
    "主要使用np.random()系列函数，见下面的例子。"
   ]
  },
  {
   "cell_type": "code",
   "execution_count": 27,
   "metadata": {},
   "outputs": [
    {
     "data": {
      "text/plain": [
       "(array([0.29117915, 0.66859123, 0.8948586 , 0.65823544, 0.59687329]),\n",
       " array([87.43029301, 75.31346101, 86.58644735, 75.40227379, 92.02031509]),\n",
       " array([[40, 24, 33, 80, 30, 89, 54, 13, 16, 93, 28, 17, 52, 16, 87]]),\n",
       " array([[-0.27096695, -0.63908846, -0.18533542],\n",
       "        [-2.29437879, -0.71562511, -0.59187023]]),\n",
       " array([[-0.57585843, -1.66008542,  0.47614616],\n",
       "        [ 0.42465438,  1.12066817, -1.34409039]]))"
      ]
     },
     "execution_count": 27,
     "metadata": {},
     "output_type": "execute_result"
    }
   ],
   "source": [
    "# 0-1均匀分布的浮点型随机数组\n",
    "arr1 = np.random.random(5)\n",
    "arr2 = 40 * np.random.random(5) + 60 # 60-100均匀分布\n",
    "\n",
    "# 整数型随机数组\n",
    "arr3 = np.random.randint(10, 100, (1, 15)) # 范围是10-99的整数，形状为(1,15)\n",
    "\n",
    "# 服从正态分布的随机数组\n",
    "arr4 = np.random.normal(0, 1, (2, 3))\n",
    "arr5 = np.random.randn(2, 3) # 0-1标准正态分布的简写\n",
    "\n",
    "arr1, arr2, arr3, arr4, arr5"
   ]
  },
  {
   "attachments": {},
   "cell_type": "markdown",
   "metadata": {},
   "source": [
    "## 数组的索引\n",
    "### 访问数组元素\n",
    "与python列表一致，访问numpy数组元素时使用中括号，索引由0开始。"
   ]
  },
  {
   "cell_type": "code",
   "execution_count": 28,
   "metadata": {},
   "outputs": [
    {
     "name": "stdout",
     "output_type": "stream",
     "text": [
      "4\n",
      "9\n"
     ]
    },
    {
     "data": {
      "text/plain": [
       "array([  1,   2,   3, 100,   5,   6,   7,   8,   9])"
      ]
     },
     "execution_count": 28,
     "metadata": {},
     "output_type": "execute_result"
    }
   ],
   "source": [
    "# 创建向量\n",
    "arr1 = np.arange(1, 10)\n",
    "\n",
    "# 访问元素\n",
    "print(arr1[3]) # 正着访问\n",
    "print(arr1[-1]) # 倒着访问\n",
    "\n",
    "# 修改数组元素\n",
    "arr1[3] = 100\n",
    "arr1"
   ]
  },
  {
   "attachments": {},
   "cell_type": "markdown",
   "metadata": {},
   "source": [
    "### 花式索引\n",
    "用逗号可以实现同时访问数组或矩阵的多个元素，具体见下面的例子。"
   ]
  },
  {
   "cell_type": "code",
   "execution_count": 32,
   "metadata": {},
   "outputs": [
    {
     "name": "stdout",
     "output_type": "stream",
     "text": [
      "[ 0 20]\n",
      "[1 6]\n"
     ]
    },
    {
     "data": {
      "text/plain": [
       "array([[  1,   2,   3, 100],\n",
       "       [  5,   6, 100,   8],\n",
       "       [  9, 100,  11,  12],\n",
       "       [100,  14,  15,  16]])"
      ]
     },
     "execution_count": 32,
     "metadata": {},
     "output_type": "execute_result"
    }
   ],
   "source": [
    "arr1 = np.arange(0, 90, 10)\n",
    "arr2 = np.arange(1, 17).reshape(4, 4)\n",
    "\n",
    "# 向量的花式索引\n",
    "print(arr1[[0, 2]]) # 索引为0和2\n",
    "# 矩阵的花式索引\n",
    "print(arr2[[0, 1], [0, 1]]) # 0行0列和1行1列\n",
    "# 修改数组元素\n",
    "arr2[[0, 1, 2, 3], [3, 2, 1, 0]] = 100\n",
    "arr2"
   ]
  },
  {
   "attachments": {},
   "cell_type": "markdown",
   "metadata": {},
   "source": [
    "### 访问数组切片\n",
    "向量切片与列表切片的操作完全一致。"
   ]
  },
  {
   "cell_type": "code",
   "execution_count": 34,
   "metadata": {},
   "outputs": [
    {
     "data": {
      "text/plain": [
       "(array([0, 1, 2, 3, 4, 5, 6, 7, 8, 9]),\n",
       " array([1, 2, 3]),\n",
       " array([1, 2, 3, 4, 5, 6, 7, 8, 9]),\n",
       " array([0, 1, 2, 3]),\n",
       " array([2, 3, 4, 5, 6, 7]),\n",
       " array([1, 3, 5, 7]))"
      ]
     },
     "execution_count": 34,
     "metadata": {},
     "output_type": "execute_result"
    }
   ],
   "source": [
    "# 向量切片\n",
    "arr1 = np.arange(10)\n",
    "arr1, arr1[1:4], arr1[1:], arr1[:4], arr1[2:-2], arr1[1:-1:2]"
   ]
  },
  {
   "cell_type": "code",
   "execution_count": 42,
   "metadata": {},
   "outputs": [
    {
     "name": "stdout",
     "output_type": "stream",
     "text": [
      "[[ 1  2  3  4  5]\n",
      " [ 6  7  8  9 10]\n",
      " [11 12 13 14 15]\n",
      " [16 17 18 19 20]]\n",
      "[[ 7  8  9]\n",
      " [12 13 14]]\n",
      "[[ 1  3  5]\n",
      " [16 18 20]]\n",
      "[11 12 13 14 15]\n",
      "[[ 6  7  8  9 10]\n",
      " [11 12 13 14 15]]\n",
      "[11 12 13 14 15]\n",
      "[ 3  8 13 18]\n",
      "[[ 2  3]\n",
      " [ 7  8]\n",
      " [12 13]\n",
      " [17 18]]\n",
      "[[ 3]\n",
      " [ 8]\n",
      " [13]\n",
      " [18]] (4, 1)\n"
     ]
    }
   ],
   "source": [
    "# 矩阵切片（类似）\n",
    "arr2 = np.arange(1, 21).reshape(4, 5)\n",
    "print(arr2)\n",
    "print(arr2[1:3, 1:-1])\n",
    "print(arr2[::3, ::2]) # 跳跃采样\n",
    "\n",
    "# 提取矩阵的行\n",
    "print(arr2[2, :])\n",
    "print(arr2[1:3, :])\n",
    "print(arr2[2]) # 提取行的简写（但提取列不可简写）\n",
    "\n",
    "# 提取矩阵的列\n",
    "print(arr2[:, 2])\n",
    "print(arr2[:, 1:3])\n",
    "print(arr2[:, 2].reshape((-1, 1)), arr2[:, 2].reshape((-1, 1)).shape) # 向量升级为矩阵"
   ]
  },
  {
   "attachments": {},
   "cell_type": "markdown",
   "metadata": {},
   "source": [
    "### 数组切片仅是视图\n",
    "numpy数组的切片仅是原数组的一个视图，并不会创建新的变量。"
   ]
  },
  {
   "cell_type": "code",
   "execution_count": 43,
   "metadata": {},
   "outputs": [
    {
     "name": "stdout",
     "output_type": "stream",
     "text": [
      "[0 1 2]\n",
      "[100   1   2]\n"
     ]
    }
   ],
   "source": [
    "arr = np.arange(10)\n",
    "cut = arr[:3]\n",
    "print(cut)\n",
    "cut[0] = 100\n",
    "print(cut)"
   ]
  },
  {
   "attachments": {},
   "cell_type": "markdown",
   "metadata": {},
   "source": [
    "我们发现，修改数组的切片后，原数组也被修改，这样的设计十分节省内存。在深度学习中，将多次使用arr[:]=<表达式>代替arr=<表达式>。\n",
    "\n",
    "如果确实需要创建新变量（这种情况很少），可以使用copy()函数。"
   ]
  },
  {
   "cell_type": "code",
   "execution_count": 46,
   "metadata": {},
   "outputs": [
    {
     "name": "stdout",
     "output_type": "stream",
     "text": [
      "[100   1   2]\n",
      "[0 1 2 3 4 5 6 7 8 9]\n"
     ]
    }
   ],
   "source": [
    "arr = np.arange(10)\n",
    "copy = arr[:3].copy()\n",
    "copy[0] = 100\n",
    "print(copy)\n",
    "print(arr)"
   ]
  },
  {
   "attachments": {},
   "cell_type": "markdown",
   "metadata": {},
   "source": [
    "### 数组赋值仅是绑定\n",
    "与numpy数组的切片一样，numpy数组完整地赋值给另外一个数组，也只是绑定。换言之，numpy数组之间的赋值并不会创建新的变量。此特性仍然是为了节约空间，破局的方法仍然是使用copy()函数。"
   ]
  },
  {
   "cell_type": "code",
   "execution_count": 47,
   "metadata": {},
   "outputs": [
    {
     "data": {
      "text/plain": [
       "(array([100,   1,   2,   3,   4,   5,   6,   7,   8,   9]),\n",
       " array([100,   1,   2,   3,   4,   5,   6,   7,   8,   9]))"
      ]
     },
     "execution_count": 47,
     "metadata": {},
     "output_type": "execute_result"
    }
   ],
   "source": [
    "arr1 = np.arange(10)\n",
    "arr2 = arr1\n",
    "arr2[0] = 100\n",
    "arr1, arr2 # 原数组也被修改"
   ]
  },
  {
   "attachments": {},
   "cell_type": "markdown",
   "metadata": {},
   "source": [
    "## 数组的变形\n",
    "### 数组的转置\n",
    "数组的转置方法T只对矩阵（包括行矩阵和列矩阵）有效，因此需要先把数组转化为矩阵。"
   ]
  },
  {
   "cell_type": "code",
   "execution_count": 49,
   "metadata": {},
   "outputs": [
    {
     "data": {
      "text/plain": [
       "(array([1, 2, 3]),\n",
       " array([[1, 2, 3]]),\n",
       " array([[1],\n",
       "        [2],\n",
       "        [3]]),\n",
       " array([[1],\n",
       "        [2],\n",
       "        [3]]))"
      ]
     },
     "execution_count": 49,
     "metadata": {},
     "output_type": "execute_result"
    }
   ],
   "source": [
    "arr1 = np.arange(1, 4)\n",
    "arr2 = arr1.reshape((1, -1))\n",
    "arr3 = arr2.T\n",
    "arr4 = arr1.reshape((-1, 1)) #一步到位变成列矩阵\n",
    "arr1, arr2, arr3, arr4"
   ]
  },
  {
   "cell_type": "code",
   "execution_count": 50,
   "metadata": {},
   "outputs": [
    {
     "data": {
      "text/plain": [
       "(array([[0, 1],\n",
       "        [2, 3]]),\n",
       " array([[0, 2],\n",
       "        [1, 3]]))"
      ]
     },
     "execution_count": 50,
     "metadata": {},
     "output_type": "execute_result"
    }
   ],
   "source": [
    "# 矩阵的转置\n",
    "arr1 = np.arange(4).reshape(2, 2)\n",
    "arr2 = arr1.T\n",
    "arr1, arr2"
   ]
  },
  {
   "attachments": {},
   "cell_type": "markdown",
   "metadata": {},
   "source": [
    "### 数组的翻转\n",
    "数组的翻转方法有两个，一个是上下翻转的np.flipud()，表示up-down；一个是左右翻转的np.fliplr()，表示left-right。其中向量只能使用上下翻转。"
   ]
  },
  {
   "cell_type": "code",
   "execution_count": 52,
   "metadata": {},
   "outputs": [
    {
     "name": "stdout",
     "output_type": "stream",
     "text": [
      "[0 1 2 3 4 5 6 7 8 9]\n",
      "[9 8 7 6 5 4 3 2 1 0]\n",
      "[[ 0  1  2  3  4]\n",
      " [ 5  6  7  8  9]\n",
      " [10 11 12 13 14]\n",
      " [15 16 17 18 19]]\n",
      "[[15 16 17 18 19]\n",
      " [10 11 12 13 14]\n",
      " [ 5  6  7  8  9]\n",
      " [ 0  1  2  3  4]]\n",
      "[[ 4  3  2  1  0]\n",
      " [ 9  8  7  6  5]\n",
      " [14 13 12 11 10]\n",
      " [19 18 17 16 15]]\n"
     ]
    }
   ],
   "source": [
    "# 向量的翻转\n",
    "arr = np.arange(10)\n",
    "print(arr)\n",
    "print(np.flipud(arr))\n",
    "\n",
    "# 矩阵的翻转\n",
    "arr = np.arange(20).reshape(4, 5)\n",
    "print(arr)\n",
    "print(np.flipud(arr))\n",
    "print(np.fliplr(arr))"
   ]
  },
  {
   "attachments": {},
   "cell_type": "markdown",
   "metadata": {},
   "source": [
    "### 数组的重塑\n",
    "数组的重塑主要使用reshape()方法，这里不再赘述。\n",
    "### 数组的拼接\n",
    "主要使用concatenate()方法，矩阵拼接要设定在哪个维度进行拼接。"
   ]
  },
  {
   "cell_type": "code",
   "execution_count": 61,
   "metadata": {},
   "outputs": [
    {
     "name": "stdout",
     "output_type": "stream",
     "text": [
      "[1 2 3] [4 5 6] [1 2 3 4 5 6]\n",
      "[[1 2 3]\n",
      " [4 5 6]] (2, 3)\n",
      "[[ 7  8  9]\n",
      " [10 11 12]] (2, 3)\n",
      "[[ 1  2  3]\n",
      " [ 4  5  6]\n",
      " [ 7  8  9]\n",
      " [10 11 12]] (4, 3)\n",
      "[[ 1  2  3  7  8  9]\n",
      " [ 4  5  6 10 11 12]] (2, 6)\n"
     ]
    }
   ],
   "source": [
    "# 向量的拼接\n",
    "arr1 = np.array([1, 2, 3])\n",
    "arr2 = np.array([4, 5, 6])\n",
    "arr3 = np.concatenate([arr1, arr2])\n",
    "print(arr1, arr2, arr3)\n",
    "\n",
    "# 矩阵的拼接（需要注意维度）\n",
    "arr1 = np.array([[1, 2, 3], [4, 5, 6]])\n",
    "arr2 = np.array([[7, 8, 9], [10, 11, 12]])\n",
    "# 按第一个维度（行）进行拼接\n",
    "arr3 = np.concatenate([arr1, arr2], axis=0)\n",
    "# 按第二个维度（列）进行拼接\n",
    "arr4 = np.concatenate([arr1, arr2], axis=1)\n",
    "print(arr1, arr1.shape)\n",
    "print(arr2, arr2.shape)\n",
    "print(arr3, arr3.shape)\n",
    "print(arr4, arr4.shape)"
   ]
  },
  {
   "attachments": {},
   "cell_type": "markdown",
   "metadata": {},
   "source": [
    "注意，向量和矩阵不能进行拼接，必须先把向量升级成行矩阵。\n",
    "### 数组的分裂"
   ]
  },
  {
   "cell_type": "code",
   "execution_count": 62,
   "metadata": {},
   "outputs": [
    {
     "name": "stdout",
     "output_type": "stream",
     "text": [
      "[10 20 30 40 50 60 70 80 90]\n"
     ]
    },
    {
     "data": {
      "text/plain": [
       "(array([10, 20]), array([30, 40, 50, 60, 70, 80]), array([90]))"
      ]
     },
     "execution_count": 62,
     "metadata": {},
     "output_type": "execute_result"
    }
   ],
   "source": [
    "# 向量的分裂\n",
    "arr = np.arange(10, 100, 10)\n",
    "print(arr)\n",
    "arr1, arr2, arr3 = np.split(arr, [2, 8])\n",
    "arr1, arr2, arr3"
   ]
  },
  {
   "attachments": {},
   "cell_type": "markdown",
   "metadata": {},
   "source": [
    "np.split()函数中，给出的第二个参数[2, 8]表示在索引[2]和索引[8]的位置截断。"
   ]
  },
  {
   "cell_type": "code",
   "execution_count": 66,
   "metadata": {},
   "outputs": [
    {
     "name": "stdout",
     "output_type": "stream",
     "text": [
      "[[1 2 3 4]\n",
      " [5 6 7 8]]\n",
      "[[1 2 3 4]]\n",
      "[[5 6 7 8]]\n",
      "[[1]\n",
      " [5]]\n",
      "[[2 3]\n",
      " [6 7]]\n",
      "[[4]\n",
      " [8]]\n"
     ]
    }
   ],
   "source": [
    "# 矩阵的分裂\n",
    "arr = np.arange(1, 9).reshape(2, 4)\n",
    "print(arr)\n",
    "# 按第一个维度（行）分裂\n",
    "arr1, arr2 = np.split(arr, [1], axis=0)\n",
    "print(arr1)\n",
    "print(arr2)\n",
    "# 按第二个维度（列）分裂\n",
    "arr1, arr2, arr3 = np.split(arr, [1, 3], axis=1)\n",
    "print(arr1)\n",
    "print(arr2)\n",
    "print(arr3)"
   ]
  },
  {
   "attachments": {},
   "cell_type": "markdown",
   "metadata": {},
   "source": [
    "## 数组的运算\n",
    "### 数组与系数之间的运算"
   ]
  },
  {
   "cell_type": "code",
   "execution_count": 68,
   "metadata": {},
   "outputs": [
    {
     "name": "stdout",
     "output_type": "stream",
     "text": [
      "[[1 2 3 4]\n",
      " [5 6 7 8]]\n",
      "[[11 12 13 14]\n",
      " [15 16 17 18]]\n",
      "[[0.1 0.2 0.3 0.4]\n",
      " [0.5 0.6 0.7 0.8]]\n",
      "[[ 1  4  9 16]\n",
      " [25 36 49 64]]\n",
      "[[0 0 0 0]\n",
      " [0 1 1 1]]\n"
     ]
    }
   ],
   "source": [
    "arr = np.arange(1, 9).reshape(2, 4)\n",
    "print(arr)\n",
    "print(arr + 10)\n",
    "print(arr / 10)\n",
    "print(arr ** 2)\n",
    "print(arr // 6)"
   ]
  },
  {
   "attachments": {},
   "cell_type": "markdown",
   "metadata": {},
   "source": [
    "### 数组与数组之间的运算\n",
    "同维度数组间的运算即对应元素之间的运算，这里仅以矩阵为例，向量之间的操作与之相同。"
   ]
  },
  {
   "cell_type": "code",
   "execution_count": 69,
   "metadata": {},
   "outputs": [
    {
     "name": "stdout",
     "output_type": "stream",
     "text": [
      "[[-1 -2 -3 -4]\n",
      " [-5 -6 -7 -8]] [[1 2 3 4]\n",
      " [5 6 7 8]]\n",
      "[[0 0 0 0]\n",
      " [0 0 0 0]]\n",
      "[[ -1  -4  -9 -16]\n",
      " [-25 -36 -49 -64]]\n"
     ]
    }
   ],
   "source": [
    "arr1 = np.arange(-1, -9, -1).reshape(2, 4)\n",
    "arr2 = -arr1\n",
    "print(arr1, arr2)\n",
    "print(arr1 + arr2)\n",
    "print(arr1 * arr2)  "
   ]
  },
  {
   "attachments": {},
   "cell_type": "markdown",
   "metadata": {},
   "source": [
    "### 广播机制\n",
    "不同形状的数组之间的运算有以下规则：\n",
    "- 如果是向量与矩阵之间做运算，向量自动升级为行矩阵；\n",
    "- 如果某矩阵是行矩阵或列矩阵，则其被广播，以适配另一个矩阵的形状。\n",
    "\n",
    "#### 向量被广播（比较常见的情况）\n",
    "当一个形状为(x, y)的矩阵与一个向量做运算时，要求该向量的形状必须为y（或者x，对应升级为列矩阵），运算时向量会自动升级成形状为(1, y)的行矩阵，该形状为(1, y)的行矩阵再自动被广播为形状为(x, y)的矩阵，这样就能与另一个矩阵的形状适配了。"
   ]
  },
  {
   "cell_type": "code",
   "execution_count": 113,
   "metadata": {},
   "outputs": [
    {
     "name": "stdout",
     "output_type": "stream",
     "text": [
      "[[0.28934033 0.39443914 0.75955818]\n",
      " [0.98580754 0.31519313 0.79829376]\n",
      " [0.66906777 0.46124244 0.76423519]\n",
      " [0.589682   0.14880533 0.77335451]\n",
      " [0.40297189 0.53650821 0.3420899 ]\n",
      " [0.58420765 0.43756407 0.07747611]\n",
      " [0.53865425 0.00600806 0.21616473]\n",
      " [0.30535625 0.53297371 0.33621359]\n",
      " [0.49116148 0.81256314 0.88110561]\n",
      " [0.53746223 0.93730133 0.30421803]]\n",
      "[[-28.93403289   0.          75.95581794]\n",
      " [-98.58075428   0.          79.8293762 ]\n",
      " [-66.9067768    0.          76.42351926]\n",
      " [-58.96819986   0.          77.33545101]\n",
      " [-40.29718909   0.          34.2089902 ]\n",
      " [-58.42076537   0.           7.74761085]\n",
      " [-53.86542524   0.          21.6164734 ]\n",
      " [-30.53562457   0.          33.62135908]\n",
      " [-49.11614842   0.          88.11056088]\n",
      " [-53.74622302   0.          30.42180334]]\n"
     ]
    }
   ],
   "source": [
    "arr1 = np.array([-100, 0, 100])\n",
    "arr2 = np.random.random((10, 3)) # 创建服从0-1均匀分布的10*3矩阵\n",
    "print(arr1 * arr2)"
   ]
  },
  {
   "attachments": {},
   "cell_type": "markdown",
   "metadata": {},
   "source": [
    "#### 列矩阵被广播\n",
    "当一个形状为(x, y)的矩阵与一个列矩阵做运算时，要求该列矩阵的形状必须为(x, 1)，该形状为(x, 1)的列矩阵再自动被广播为形状为(x, y)的矩阵，这样就能与另一个矩阵的形状适配了。"
   ]
  },
  {
   "cell_type": "code",
   "execution_count": 73,
   "metadata": {},
   "outputs": [
    {
     "name": "stdout",
     "output_type": "stream",
     "text": [
      "[[0. 0. 0. 0. 0.]\n",
      " [1. 1. 1. 1. 1.]\n",
      " [2. 2. 2. 2. 2.]]\n"
     ]
    }
   ],
   "source": [
    "arr1 = np.arange(3).reshape(3, 1)\n",
    "arr2 = np.ones((3, 5))\n",
    "print(arr1 * arr2)"
   ]
  },
  {
   "attachments": {},
   "cell_type": "markdown",
   "metadata": {},
   "source": [
    "#### 行矩阵和列矩阵同时被广播\n",
    "当一个形状为(1, y)的行矩阵和一个形状为(x, 1)的列矩阵做运算时，这俩矩阵都会被自动广播为形状为(x, y)的矩阵，这样就互相适配了。"
   ]
  },
  {
   "cell_type": "code",
   "execution_count": 75,
   "metadata": {},
   "outputs": [
    {
     "name": "stdout",
     "output_type": "stream",
     "text": [
      "[[0 0 0]\n",
      " [0 1 2]\n",
      " [0 2 4]]\n"
     ]
    }
   ],
   "source": [
    "arr1 = np.arange(3)\n",
    "arr2 = np.arange(3).reshape(3, 1)\n",
    "print(arr1 * arr2)"
   ]
  },
  {
   "attachments": {},
   "cell_type": "markdown",
   "metadata": {},
   "source": [
    "## 数组的函数\n",
    "### 矩阵乘积\n",
    "- 前面出现的乘法都是“逐元素相乘”，这里介绍线性代数中的矩阵乘法，使用np.dot()函数即可。\n",
    "- 当矩阵乘积中混有向量时，根据需求，其可充当行矩阵，也可充当列矩阵，但混有向量时输出结果必为向量。"
   ]
  },
  {
   "cell_type": "code",
   "execution_count": 78,
   "metadata": {},
   "outputs": [
    {
     "name": "stdout",
     "output_type": "stream",
     "text": [
      "30\n",
      "[ 90 100 110]\n",
      "[[  8   9  10  11  12  13  14  15]\n",
      " [ 24  29  34  39  44  49  54  59]\n",
      " [ 40  49  58  67  76  85  94 103]\n",
      " [ 56  69  82  95 108 121 134 147]\n",
      " [ 72  89 106 123 140 157 174 191]]\n"
     ]
    }
   ],
   "source": [
    "# 向量与向量的乘积\n",
    "arr1 = np.arange(5)\n",
    "arr2 = np.arange(5)\n",
    "print(np.dot(arr1, arr2))\n",
    "\n",
    "# 向量与矩阵的乘积\n",
    "arr1 = np.arange(5)\n",
    "arr2 = np.arange(15).reshape(5, 3)\n",
    "print(np.dot(arr1, arr2))\n",
    "\n",
    "# 矩阵与矩阵的乘积\n",
    "arr1 = np.arange(10).reshape(5, 2)\n",
    "arr2 = np.arange(16).reshape(2, 8)\n",
    "print(np.dot(arr1, arr2))"
   ]
  },
  {
   "attachments": {},
   "cell_type": "markdown",
   "metadata": {},
   "source": [
    "### 数学函数\n",
    "最重要、常见的几个数学函数：\n",
    "- 绝对值函数abs()\n",
    "\n",
    "- 三角函数sin()等\n",
    "\n",
    "- 指数函数exp()\n",
    "\n",
    "- 对数函数log()（需要不同底数用换底公式解决）\n",
    "\n",
    "### 聚合函数（参数可选维度）\n",
    "- 最大值函数max()和最小值函数min()\n",
    "\n",
    "- 累加函数sum()和累乘函数prod()\n",
    "\n",
    "- 均值函数mean()和标准差函数std()\n",
    "\n",
    "考虑到大型数组难免有缺失值，以上聚合函数遇到缺失值时会报错，因此出现了聚合函数的安全版本，即计算时忽略缺失值，如nansum()等。\n",
    "\n",
    "## 布尔型数组\n",
    "### 创建布尔型数组"
   ]
  },
  {
   "cell_type": "code",
   "execution_count": 82,
   "metadata": {},
   "outputs": [
    {
     "name": "stdout",
     "output_type": "stream",
     "text": [
      "[[1 2 3]\n",
      " [4 5 6]]\n",
      "[[False False False]\n",
      " [ True  True  True]]\n",
      "[1 2 3 4 5]\n",
      "[5 4 3 2 1]\n",
      "[False False False  True  True]\n",
      "[1 2 3 4 5 6 7 8 9]\n",
      "[ True  True  True False False False  True  True  True]\n"
     ]
    }
   ],
   "source": [
    "# 数组与数字作比较\n",
    "arr = np.arange(1, 7).reshape(2, 3)\n",
    "print(arr)\n",
    "print(arr >= 4)\n",
    "\n",
    "# 数组与同维数组作比较\n",
    "arr1 = np.arange(1, 6)\n",
    "arr2 = np.flipud(arr1)\n",
    "print(arr1)\n",
    "print(arr2)\n",
    "print(arr1 > arr2)\n",
    "\n",
    "# 同时比较多个条件（与（&），或（|），非（~））\n",
    "arr = np.arange(1, 10)\n",
    "print(arr)\n",
    "print((arr < 4) | (arr > 6))"
   ]
  },
  {
   "attachments": {},
   "cell_type": "markdown",
   "metadata": {},
   "source": [
    "### 布尔型数组中True的数量\n",
    "有三个关于True数量的有用函数，分别是np.sum(), np.any(), np.all()。\n",
    "- np.sum()函数可以统计布尔型数组里True的个数"
   ]
  },
  {
   "cell_type": "code",
   "execution_count": 86,
   "metadata": {},
   "outputs": [
    {
     "name": "stdout",
     "output_type": "stream",
     "text": [
      "6794\n"
     ]
    }
   ],
   "source": [
    "# 创建一个包含10000个数的正态分布数组\n",
    "arr = np.random.randn(10000)\n",
    "# 统计该分布中绝对值小于1的元素个数\n",
    "num = np.sum(np.abs(arr) < 1)\n",
    "print(num) # 理论值在6827左右"
   ]
  },
  {
   "attachments": {},
   "cell_type": "markdown",
   "metadata": {},
   "source": [
    "- np.any()函数：只要布尔型数组里含有一个或以上的True，就返回True。"
   ]
  },
  {
   "cell_type": "code",
   "execution_count": 87,
   "metadata": {},
   "outputs": [
    {
     "name": "stdout",
     "output_type": "stream",
     "text": [
      "True\n"
     ]
    }
   ],
   "source": [
    "# 判断两个数组是否有共同元素\n",
    "arr1 = np.arange(1, 10)\n",
    "arr2 = np.flipud(arr1)\n",
    "print(np.any(arr1 == arr2))"
   ]
  },
  {
   "attachments": {},
   "cell_type": "markdown",
   "metadata": {},
   "source": [
    "- np.all()函数：当布尔型数组里全是True时，才返回True。"
   ]
  },
  {
   "cell_type": "code",
   "execution_count": 94,
   "metadata": {},
   "outputs": [
    {
     "name": "stdout",
     "output_type": "stream",
     "text": [
      "False\n"
     ]
    }
   ],
   "source": [
    "# 模拟英语六级的成绩，创建100000个样本\n",
    "arr = np.random.normal(500, 70, 100000)\n",
    "# 判断是否所有考生的分数都高于250分\n",
    "print(np.all(arr > 250))"
   ]
  },
  {
   "attachments": {},
   "cell_type": "markdown",
   "metadata": {},
   "source": [
    "从结果来看，尽管3 $\\sigma$ 准则告诉我们有99.87%的考生成绩高于500-3*70=290分，但仍然有最终成绩低于250分的裸考者。\n",
    "\n",
    "### 布尔型数组作为掩码\n",
    "若一个普通数组和一个布尔型数组的维度相同，可以将布尔型数组作为普通数组的掩码，这样可以对普通数组中的元素作筛选。"
   ]
  },
  {
   "cell_type": "code",
   "execution_count": 97,
   "metadata": {},
   "outputs": [
    {
     "name": "stdout",
     "output_type": "stream",
     "text": [
      "[[ 1  2  3  4]\n",
      " [ 5  6  7  8]\n",
      " [ 9 10 11 12]]\n",
      "[[False False False False]\n",
      " [ True  True  True  True]\n",
      " [ True  True  True  True]]\n",
      "[ 5  6  7  8  9 10 11 12]\n",
      "[False False False False False  True  True  True  True]\n",
      "[6 7 8 9]\n",
      "[4 3 2 1]\n"
     ]
    }
   ],
   "source": [
    "# 示例1：数组与数字作比较\n",
    "arr = np.arange(1, 13).reshape(3, 4)\n",
    "print(arr > 4)\n",
    "# 筛选出arr > 4的元素\n",
    "print(arr[arr > 4])\n",
    "\n",
    "# 示例2：同维数组筛选\n",
    "arr1 = np.arange(1, 10)\n",
    "arr2 = np.flipud(arr1)\n",
    "print(arr1 > arr2)\n",
    "print(arr1[arr1 > arr2])\n",
    "print(arr2[arr1 > arr2])"
   ]
  },
  {
   "attachments": {},
   "cell_type": "markdown",
   "metadata": {},
   "source": [
    "### 满足条件的元素所在位置\n",
    "假设一个很长的数组，我想知道满足某个条件的元素们所在的索引位置，此时使用np.where()函数。"
   ]
  },
  {
   "cell_type": "code",
   "execution_count": 111,
   "metadata": {},
   "outputs": [
    {
     "name": "stdout",
     "output_type": "stream",
     "text": [
      "(array([  3,   5, 134, 197, 220, 256, 293, 405, 533, 537, 546, 575, 703,\n",
      "       731, 743, 838, 916, 919, 951], dtype=int64),)\n",
      "(array([405], dtype=int64),)\n"
     ]
    }
   ],
   "source": [
    "arr = np.random.normal(500, 70, 1000)\n",
    "print(np.where(arr > 650)) # 结果是一个元组，包含索引数组和数据类型\n",
    "print(np.where(arr == np.max(arr)))"
   ]
  },
  {
   "attachments": {},
   "cell_type": "markdown",
   "metadata": {},
   "source": [
    "## 从数组到张量\n",
    "### 数组与张量\n",
    "PyTorch作为当前首屈一指的深度学习库，其将Numpy的语法尽数吸收，作为自己处理数组的基本语法，且运算速度从使用CPU的数组进步到使用GPU的张量。\n",
    "\n",
    "Numpy和PyTorch的语法几乎一致，具体表现为：\n",
    "- np对应torch；\n",
    "\n",
    "- 数组array对应张量tensor；\n",
    "\n",
    "- Numpy的n为数组对应PyTorch的n阶张量。\n",
    "\n",
    "数组与张量之间可以互相转换：\n",
    "- 数组转张量：ts = torch.tensor(arr)；\n",
    "\n",
    "- 张量转数组：arr = np.array(ts)。\n",
    "\n",
    "### 语法不同点\n",
    "PyTorch只是少量修改了Numpy的部分函数，具体可以查阅[Python深度学习：NumPy数组库](https://www.bilibili.com/video/BV1H84y1g7RE/?p=3)。\n",
    "这里展示几个重要的函数变化：\n",
    "|函数类型|NumPy|PyTorch|用法区别|\n",
    "|:---:|:---:|:---:|:---:|\n",
    "|数组拼接|np.concatenate()|torch.cat()|无|\n",
    "|矩阵乘积|np.dot()|torch.matmul()|无|\n",
    "|矩阵乘积|np.dot(v, v)|torch.dot()|无|\n",
    "|矩阵乘积|np.dot(m, v)|torch.mv()|无|\n",
    "|矩阵乘积|np.dot(m, m)|torch.mm()|无|"
   ]
  }
 ],
 "metadata": {
  "kernelspec": {
   "display_name": "pytorch1",
   "language": "python",
   "name": "pytorch"
  },
  "language_info": {
   "codemirror_mode": {
    "name": "ipython",
    "version": 3
   },
   "file_extension": ".py",
   "mimetype": "text/x-python",
   "name": "python",
   "nbconvert_exporter": "python",
   "pygments_lexer": "ipython3",
   "version": "3.9.18"
  },
  "orig_nbformat": 4
 },
 "nbformat": 4,
 "nbformat_minor": 2
}
